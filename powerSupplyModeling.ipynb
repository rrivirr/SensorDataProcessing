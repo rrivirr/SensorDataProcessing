{
 "cells": [
  {
   "cell_type": "markdown",
   "id": "50e8d5c9",
   "metadata": {},
   "source": [
    "# Can be used to model current drain over periods of time, or for specific power sources based on their current ratings"
   ]
  },
  {
   "cell_type": "markdown",
   "id": "ae57e431",
   "metadata": {},
   "source": [
    "## NOTE: to reduce space on the github, restart & clear output of kernel, then save. Additionally, store outputs in a different location."
   ]
  },
  {
   "cell_type": "code",
   "execution_count": null,
   "id": "f0e14416",
   "metadata": {},
   "outputs": [],
   "source": [
    "# just grabbing some utility functions out of this\n",
    "methaneFunctions<-paste(getwd(),\"/rriv_methane/methane_functions.r\",sep=\"\")\n",
    "methaneFunctions\n",
    "if (file.exists(methaneFunctions)){\n",
    "    source(methaneFunctions)\n",
    "} else {\n",
    "    print(\"manually correct the location and/or name of methane_functions.r\")\n",
    "}"
   ]
  },
  {
   "cell_type": "code",
   "execution_count": null,
   "id": "0b6a8028",
   "metadata": {},
   "outputs": [],
   "source": [
    "# Package names\n",
    "packages <- c(\"reshape2\", \"plotly\", \"htmlwidgets\", \"rbokeh\", \"plotfunctions\")\n",
    "packageHandler(packages)"
   ]
  },
  {
   "cell_type": "code",
   "execution_count": null,
   "id": "5232e92c",
   "metadata": {},
   "outputs": [],
   "source": [
    "# create output directory if necessary\n",
    "# note, move files to reduce space before pushing to github repo\n",
    "outputDir<-paste0(getwd(),\"/powerSupplyModeling_output/\")\n",
    "\n",
    "newDir(outputDir)"
   ]
  },
  {
   "cell_type": "markdown",
   "id": "a5a62a0e",
   "metadata": {},
   "source": [
    "# function to calculate average hourly current drain in milliampere given hourly:\n",
    "    awake_percentage in %\n",
    "    awake_current in mA\n",
    "    sleep_current in mA, default 0.1 mA, or 100 uA"
   ]
  },
  {
   "cell_type": "code",
   "execution_count": null,
   "id": "06bed67c",
   "metadata": {},
   "outputs": [],
   "source": [
    "# returns average hourly current draw in milliampere given hourly:\n",
    "# awake_percentage in %\n",
    "# awake_current in mA\n",
    "# sleep_current in mA, default 0.1 mA, or 100 uA\n",
    "    # could instead give duration battery supply can last given battery_capacity in mAh\n",
    "amhh<-function(awake_percentage, awake_current, sleep_current=0.1){\n",
    "    awake_percentage<-awake_percentage/100\n",
    "    \n",
    "    milliamp<-awake_percentage*awake_current+(1-awake_percentage)*sleep_current\n",
    "#     battery_capacity = 10000 # tenergy d cell mAh rating\n",
    "#     days<-battery_capacity/milliamp/24 #calculate hours and convert to days\n",
    "\n",
    "    return(milliamp)\n",
    "}"
   ]
  },
  {
   "cell_type": "markdown",
   "id": "41837aae",
   "metadata": {},
   "source": [
    "# plot_ly types:\n",
    "    'bar', 'barpolar', 'box', 'candlestick', 'carpet', 'choropleth', 'choroplethmapbox', 'cone', 'contour', 'contourcarpet', 'densitymapbox', 'funnel', 'funnelarea', 'heatmap', 'heatmapgl', 'histogram', 'histogram2d', 'histogram2dcontour', 'icicle', 'image', 'indicator', 'isosurface', 'mesh3d', 'ohlc', 'parcats', 'parcoords', 'pie', 'pointcloud', 'sankey', 'scatter', 'scatter3d', 'scattercarpet', 'scattergeo', 'scattergl', 'scattermapbox', 'scatterpolar', 'scatterpolargl', 'scattersmith', 'scatterternary', 'splom', 'streamtube', 'sunburst', 'surface', 'table', 'treemap', 'violin', 'volume', 'waterfall'\n"
   ]
  },
  {
   "cell_type": "markdown",
   "id": "ea40b746",
   "metadata": {},
   "source": [
    "# Surface Plots\n",
    "note: preference is 3d mesh plots below, there are limitations to the surface plot dimensions due to requiring a matrix"
   ]
  },
  {
   "cell_type": "markdown",
   "id": "4ce97af9",
   "metadata": {},
   "source": [
    "# generate hourly current drain matrix from a range of awake percentages and currents"
   ]
  },
  {
   "cell_type": "code",
   "execution_count": null,
   "id": "b684d7b9",
   "metadata": {},
   "outputs": [],
   "source": [
    "# # create matrix with index values as dimensions, creating max range, can be graphed in smaller sections\n",
    "\n",
    "# # vary awake_percentage\n",
    "#     # if sampling takes 15 seconds = 10s warmup + 5s to take sample(s)\n",
    "#         # 0.42% = sample once an hour = 15s / 3600s\n",
    "#         # 0.83% = sample every 30 minutes (2/hr), 30s / 3600s \n",
    "#         # 2.5% = sample every 10 minutes(6/hr) = 90s / 3600s\n",
    "#         # 25% = sample every minute (60/hr) = 900s / 3600s\n",
    "\n",
    "# # 1-100 % is full range, can't do 0 due to matrix index\n",
    "# awake_percentage<-seq(1, 100, 1)\n",
    "\n",
    "# # vary awake_current\n",
    "#     # 30mA is thermistor + atlas scientific conductivity probe, thermistor alone is in the uA range\n",
    "#     # 400 mA is NGM2611-E13, DHT22, Atlas Scientific CO2\n",
    "#     # 1000 mA is considering we allow 12 sensor slots, and are considering telemetry\n",
    "# max_mA<-1000\n",
    "\n",
    "# awake_current<-seq(1, max_mA, 1)\n",
    "\n",
    "# # create matrix of values (x, y, z=f(x,y))\n",
    "# z_matrix <- outer(awake_percentage, awake_current, amhh)"
   ]
  },
  {
   "cell_type": "code",
   "execution_count": null,
   "id": "b220df3c",
   "metadata": {},
   "outputs": [],
   "source": [
    "# # user settings:\n",
    "#     # hourly awake percentage range\n",
    "# percentMin=0\n",
    "# percentMax=3\n",
    "\n",
    "#     # hourly awake current range\n",
    "# currentMin=20\n",
    "# currentMax=400"
   ]
  },
  {
   "cell_type": "markdown",
   "id": "ffd2935f",
   "metadata": {},
   "source": [
    "## current drain (mA)"
   ]
  },
  {
   "cell_type": "code",
   "execution_count": null,
   "id": "58a2f5de",
   "metadata": {
    "scrolled": true
   },
   "outputs": [],
   "source": [
    "# # custom surface plot based on above settings\n",
    "# # rename to change color bar title, not sure how to change otherwise\n",
    "# mA<-z_matrix\n",
    "\n",
    "# # calculate color bar range\n",
    "# if (percentMax<100){\n",
    "#     pMax<-percentMax+1\n",
    "# }else{\n",
    "#     pMax<-percentMax\n",
    "# }\n",
    "\n",
    "# cMax<-max(mA[percentMin:pMax, currentMin:currentMax])\n",
    "\n",
    "# # create surface plot\n",
    "# surfacePlot <- plot_ly(z=~mA, cmin=0, cmax=cMax) |> add_surface() |>\n",
    "#     layout(scene=list(\n",
    "#         xaxis=list(title=\"Hourly awake current (mA)\", range=list(currentMin,currentMax)),\n",
    "#         yaxis=list(title=\"Hourly awake percentage (%)\", range=list(percentMin,percentMax)),\n",
    "#         zaxis=list(title=\"Hourly current drain (mA)\", range=list(0,cMax))\n",
    "#                         )\n",
    "#           )\n",
    "\n",
    "# # save as html\n",
    "# fileOut=paste0(outputDir,\"currentDrain_\",percentMin,\"_\",percentMax,\"_\",currentMin,\"_\",currentMax,\".html\")\n",
    "# saveWidget(surfacePlot,file=fileOut)\n",
    "\n",
    "# # display in python notebook\n",
    "# # embed_notebook(surfacePlot)"
   ]
  },
  {
   "cell_type": "markdown",
   "id": "7931d06c",
   "metadata": {},
   "source": [
    "# 10k mAh battery duration (day)"
   ]
  },
  {
   "cell_type": "code",
   "execution_count": null,
   "id": "1cc13d34",
   "metadata": {
    "scrolled": true
   },
   "outputs": [],
   "source": [
    "# # surface plot of days a 10k mAh power supply can last\n",
    "# Days<-10000/z_matrix/24\n",
    "\n",
    "# # calculate color bar range\n",
    "# if (percentMax<100){\n",
    "#     pMax<-percentMax+1\n",
    "# }else{\n",
    "#     pMax<-percentMax\n",
    "# }\n",
    "\n",
    "# cMax<-max(Days[percentMin:pMax, currentMin:currentMax])\n",
    "\n",
    "# # create surface plot\n",
    "# surfacePlot <- plot_ly(z=~Days, cmin=0, cmax=cMax) |> add_surface() |>\n",
    "#     layout(scene=list(\n",
    "#         xaxis=list(title=\"Hourly awake current (mA)\", range=list(currentMin,currentMax)),\n",
    "#         yaxis=list(title=\"Hourly awake percentage (%)\", range=list(percentMin,percentMax)),\n",
    "#         zaxis=list(title=\"10k mAh supply duration (day)\", range=list(0,cMax))\n",
    "#                         )\n",
    "#           )\n",
    "\n",
    "# # save as html\n",
    "# fileOut=paste0(outputDir,\"10kDuration_\",percentMin,\"_\",percentMax,\"_\",currentMin,\"_\",currentMax,\".html\")\n",
    "# saveWidget(surfacePlot,file=fileOut)\n",
    "\n",
    "# # display in python notebook\n",
    "# # embed_notebook(surfacePlot)"
   ]
  },
  {
   "cell_type": "markdown",
   "id": "6626bbdc",
   "metadata": {},
   "source": [
    "## daily current drain (mA)"
   ]
  },
  {
   "cell_type": "code",
   "execution_count": null,
   "id": "a0d53ef6",
   "metadata": {},
   "outputs": [],
   "source": [
    "# # surface plot of daily milliampere drain\n",
    "# # rename to change color bar title, not sure how to change otherwise\n",
    "# mA<-z_matrix*24\n",
    "\n",
    "# # calculate color bar range\n",
    "# if (percentMax<100){\n",
    "#     pMax<-percentMax+1\n",
    "# }else{\n",
    "#     pMax<-percentMax\n",
    "# }\n",
    "\n",
    "# cMax<-max(mA[percentMin:pMax, currentMin:currentMax])\n",
    "\n",
    "# # create surface plot\n",
    "# surfacePlot <- plot_ly(z=~mA, cmin=0, cmax=cMax) |> add_surface() |>\n",
    "#     layout(scene=list(\n",
    "#         xaxis=list(title=\"Hourly awake current (mA)\", range=list(currentMin,currentMax)),\n",
    "#         yaxis=list(title=\"Hourly awake percentage (%)\", range=list(percentMin,percentMax)),\n",
    "#         zaxis=list(title=\"Daily current drain (mA)\", range=list(0,cMax))\n",
    "#                         )\n",
    "#           )\n",
    "\n",
    "# # save as html\n",
    "# fileOut=paste0(outputDir,\"currentDrainDaily_\",percentMin,\"_\",percentMax,\"_\",currentMin,\"_\",currentMax,\".html\")\n",
    "# saveWidget(surfacePlot,file=fileOut)\n",
    "\n",
    "# # display in python notebook\n",
    "# # embed_notebook(surfacePlot)"
   ]
  },
  {
   "cell_type": "markdown",
   "id": "866d71ac",
   "metadata": {},
   "source": [
    "# Mesh 3d plots"
   ]
  },
  {
   "cell_type": "code",
   "execution_count": null,
   "id": "3bb6e9b9",
   "metadata": {},
   "outputs": [],
   "source": [
    "# create matrix with index values as dimensions, creating max range, can be graphed in smaller sections\n",
    "\n",
    "# vary awake_percentage\n",
    "    # if sampling takes 18 seconds = 10s warmup + 8s to take sample(s)\n",
    "        # 0.5% = sample once an hour = 18s / 3600s\n",
    "        # 1% = sample every 30 minutes (2/hr) = 36s / 3600s \n",
    "        # 2% = sample every 15 minutes (4/hr) = 72s / 3600s\n",
    "        # 3% = sample every 10 minutes (6/hr) = 108s / 3600s\n",
    "        # 6% = sample every 5 minutes(6/hr) = 216s / 3600s\n",
    "        # 30% = sample every minute (60/hr) = 1080s / 3600s\n",
    "\n",
    "# 0-100 is full range\n",
    "awake_percentage<-seq(0, 31, .1)\n",
    "\n",
    "# vary awake_current\n",
    "    # 30mA is thermistor + atlas scientific conductivity probe, thermistor alone is in the uA range\n",
    "    # 400 mA is NGM2611-E13, DHT22, Atlas Scientific CO2\n",
    "    # 1000 mA is considering we allow 12 sensor slots, and are considering telemetry\n",
    "max_mA<-450\n",
    "\n",
    "awake_current<-seq(0, max_mA, 1)\n",
    "\n",
    "# create matrix of values (x, y, z=f(x,y))\n",
    "z_matrix2 <- outer(awake_percentage, awake_current, amhh)\n",
    "\n",
    "# turn into a dataframe\n",
    "z2_df<-as.data.frame(z_matrix2)\n",
    "\n",
    "    # preserve awake_current values\n",
    "names(z2_df)<-awake_current\n",
    "    # preserve awake_current values\n",
    "z2_df$awake_percentage<-awake_percentage\n",
    "\n",
    "# melt to long format\n",
    "zmelt2<-melt(z2_df,id.vars=c(\"awake_percentage\"))\n",
    "\n",
    "# rename columns, all are per hour\n",
    "names(zmelt2)<-c(\"awake_percentage\",\"awake_current\",\"hourly_drain_mA\")\n",
    "\n",
    "# switch from factor to numeric\n",
    "zmelt2$awake_current<-as.numeric(zmelt2$awake_current)"
   ]
  },
  {
   "cell_type": "code",
   "execution_count": null,
   "id": "d419eb2d",
   "metadata": {},
   "outputs": [],
   "source": [
    "# add additional columns that may be helpful to plot\n",
    "# data frame allows for log transformations of data\n",
    "\n",
    "# conversion of percentage to seconds per hour in case that's more readable\n",
    "zmelt2$awake_secPerHour<-zmelt2$awake_percentage/100*3600\n",
    "\n",
    "# daily milliampere drain\n",
    "zmelt2$daily_drain_mA<-zmelt2$hourly_drain_mA*24\n",
    "\n",
    "# battery supply durations calculations\n",
    "zmelt2$oneAAcell_duration_day<-1900/zmelt2$daily_drain_mA\n",
    "zmelt2$oneDcell_duration_day<-10000/zmelt2$daily_drain_mA\n",
    "zmelt2$twoDcell_duration_day<-20000/zmelt2$daily_drain_mA\n",
    "zmelt2$threeDcell_duration_day<-30000/zmelt2$daily_drain_mA\n",
    "\n",
    "# add log10 columns\n",
    "zmelt2$log10_awake_percentage<-log10(zmelt2$awake_percentage) # hourly\n",
    "zmelt2$log10_awake_s<-log10(zmelt2$awake_secPerHour) # hourly\n",
    "zmelt2$log10_awake_mA<-log10(zmelt2$awake_current) # hourly\n",
    "zmelt2$log10_oneDcell_duration_day<-log10(zmelt2$oneDcell_duration_day)"
   ]
  },
  {
   "cell_type": "code",
   "execution_count": null,
   "id": "b80f1c25",
   "metadata": {},
   "outputs": [],
   "source": [
    "# user settings, must be within matrix ranges:\n",
    "    # hourly awake percentage range\n",
    "percentMin=0.2\n",
    "percentMax=30\n",
    "\n",
    "    # hourly awake current range\n",
    "currentMin=20\n",
    "currentMax=410"
   ]
  },
  {
   "cell_type": "code",
   "execution_count": null,
   "id": "d15f0e62",
   "metadata": {},
   "outputs": [],
   "source": [
    "names(zmelt2)"
   ]
  },
  {
   "cell_type": "markdown",
   "id": "c0463e18",
   "metadata": {},
   "source": [
    "## hourly current drain (mA)"
   ]
  },
  {
   "cell_type": "code",
   "execution_count": null,
   "id": "764338b2",
   "metadata": {},
   "outputs": [],
   "source": [
    "#awake current, awake percentage, hourly drain\n",
    "\n",
    "# calculate color bar range\n",
    "cMax<-zmelt2[zmelt2$awake_current==currentMax & zmelt2$awake_percentage==percentMax,]$hourly_drain_mA\n",
    "\n",
    "# create mesh3d plot\n",
    "# , intensity=~(hourly_drain_mA)\n",
    "mesh3dPlot1_1<-plot_ly(data = zmelt2, type=\"mesh3d\",\n",
    "                    x=~(awake_current),\n",
    "                    y=~(awake_percentage),\n",
    "                    z=~(hourly_drain_mA),\n",
    "                    intensity=~(hourly_drain_mA), cmin=0, cmax=cMax\n",
    "                    )|>\n",
    "    layout(scene=list(\n",
    "        xaxis=list(title=\"Hourly awake current (mA)\", range=list(currentMin,currentMax)),\n",
    "        yaxis=list(title=\"Hourly awake percentage (%)\", range=list(percentMin,percentMax)),\n",
    "        zaxis=list(title=\"Hourly current drain (mA)\",range=list(0,cMax))\n",
    "                        ) ) |> colorbar(title=\"mA\")\n",
    "\n",
    "# save as html\n",
    "fileOut=paste0(outputDir,\"mesh3d_hourlyDrain1_\",percentMin,\"_\",percentMax,\"_\",currentMin,\"_\",currentMax,\".html\")\n",
    "saveWidget(mesh3dPlot1_1,file=fileOut)\n",
    "\n",
    "# show in python notebook\n",
    "# embed_notebook(mesh3dPlot1)"
   ]
  },
  {
   "cell_type": "code",
   "execution_count": null,
   "id": "0c23f716",
   "metadata": {},
   "outputs": [],
   "source": [
    "#awake current, awake sec per hour, hourly drain\n",
    "\n",
    "# calculate color bar range\n",
    "cMax<-zmelt2[zmelt2$awake_current==currentMax & zmelt2$awake_percentage==percentMax,]$hourly_drain_mA\n",
    "\n",
    "awake_sMin<-percentMin/100*3600\n",
    "awake_sMax<-percentMax/100*3600\n",
    "\n",
    "# create mesh3d plot\n",
    "# , intensity=~(hourly_drain_mA)\n",
    "mesh3dPlot1_2<-plot_ly(data = zmelt2, type=\"mesh3d\",\n",
    "                    x=~(awake_current),\n",
    "                    y=~(awake_secPerHour),\n",
    "                    z=~(hourly_drain_mA),\n",
    "                    intensity=~(hourly_drain_mA), cmin=0, cmax=cMax\n",
    "                    )|>\n",
    "    layout(scene=list(\n",
    "        xaxis=list(title=\"Hourly awake current (mA)\", range=list(currentMin,currentMax)),\n",
    "        yaxis=list(title=\"Hourly awake duration (sec)\", range=list(awake_sMin,awake_sMax)),\n",
    "        zaxis=list(title=\"Hourly current drain (mA)\",range=list(0,cMax))\n",
    "                        ) ) |> colorbar(title=\"mA\")\n",
    "\n",
    "# save as html\n",
    "fileOut=paste0(outputDir,\"mesh3d_hourlyDrain2_\",percentMin,\"_\",percentMax,\"_\",currentMin,\"_\",currentMax,\".html\")\n",
    "saveWidget(mesh3dPlot1_2,file=fileOut)\n",
    "\n",
    "# show in python notebook\n",
    "# embed_notebook(mesh3dPlot1_2)"
   ]
  },
  {
   "cell_type": "markdown",
   "id": "e4294520",
   "metadata": {},
   "source": [
    "## 10k mAh battery supply duration (day)"
   ]
  },
  {
   "cell_type": "code",
   "execution_count": null,
   "id": "65d1b1de",
   "metadata": {},
   "outputs": [],
   "source": [
    "# calculate color bar range\n",
    "cMax<-zmelt2[zmelt2$awake_current==currentMin & zmelt2$awake_percentage==percentMin,]$oneDcell_duration_day\n",
    "\n",
    "# create mesh3d plot\n",
    "# , intensity=~(hourly_drain_mA)\n",
    "mesh3dPlot2<-plot_ly(data = zmelt2, type=\"mesh3d\",\n",
    "                    x=~(awake_current),\n",
    "                    y=~(awake_percentage),\n",
    "                    z=~(oneDcell_duration_day),\n",
    "                    intensity=~(oneDcell_duration_day), cmin=0, cmax=cMax\n",
    "                    )|>\n",
    "    layout(scene=list(\n",
    "        xaxis=list(title=\"Hourly awake current (mA)\", range=list(currentMin,currentMax)),\n",
    "        yaxis=list(title=\"Hourly awake percentage (%)\", range=list(percentMin,percentMax)),\n",
    "        zaxis=list(title=\"10k mAh supply duration (day)\",range=list(0,cMax))\n",
    "                        ) ) |> colorbar(title=\"Days\")\n",
    "\n",
    "# save as html\n",
    "fileOut=paste0(outputDir,\"mesh3d_10kduration_\",percentMin,\"_\",percentMax,\"_\",currentMin,\"_\",currentMax,\".html\")\n",
    "saveWidget(mesh3dPlot2,file=fileOut)\n",
    "\n",
    "# show in python notebook\n",
    "# embed_notebook(mesh3dPlot2)"
   ]
  },
  {
   "cell_type": "markdown",
   "id": "2a150b7a",
   "metadata": {},
   "source": [
    "## daily current drain (mA)"
   ]
  },
  {
   "cell_type": "code",
   "execution_count": null,
   "id": "dcf60b34",
   "metadata": {},
   "outputs": [],
   "source": [
    "# calculate color bar range\n",
    "cMax<-zmelt2[zmelt2$awake_current==currentMax & zmelt2$awake_percentage==percentMax,]$daily_drain_mA\n",
    "\n",
    "# create mesh3d plot\n",
    "# , intensity=~(hourly_drain_mA)\n",
    "mesh3dPlot3<-plot_ly(data = zmelt2, type=\"mesh3d\",\n",
    "                    x=~(awake_current),\n",
    "                    y=~(awake_percentage),\n",
    "                    z=~(daily_drain_mA),\n",
    "                    intensity=~(daily_drain_mA), cmin=0, cmax=cMax\n",
    "                    )|>\n",
    "    layout(scene=list(\n",
    "        xaxis=list(title=\"Hourly awake current (mA)\", range=list(currentMin,currentMax)),\n",
    "        yaxis=list(title=\"Hourly awake percentage (%)\", range=list(percentMin,percentMax)),\n",
    "        zaxis=list(title=\"Daily current drain (mA)\",range=list(0,cMax))\n",
    "                        ) ) |> colorbar(title=\"mA\")\n",
    "\n",
    "# save as html\n",
    "fileOut=paste0(outputDir,\"mesh3d_dailyDrain_\",percentMin,\"_\",percentMax,\"_\",currentMin,\"_\",currentMax,\".html\")\n",
    "saveWidget(mesh3dPlot3,file=fileOut)\n",
    "\n",
    "# show in python notebook\n",
    "# embed_notebook(mesh3dPlot3)"
   ]
  },
  {
   "cell_type": "code",
   "execution_count": null,
   "id": "2b7b593c",
   "metadata": {},
   "outputs": [],
   "source": []
  },
  {
   "cell_type": "code",
   "execution_count": null,
   "id": "42dc611a",
   "metadata": {},
   "outputs": [],
   "source": []
  },
  {
   "cell_type": "code",
   "execution_count": null,
   "id": "27057e50",
   "metadata": {},
   "outputs": [],
   "source": []
  },
  {
   "cell_type": "code",
   "execution_count": null,
   "id": "3100dae4",
   "metadata": {},
   "outputs": [],
   "source": []
  },
  {
   "cell_type": "code",
   "execution_count": null,
   "id": "ec82aae3",
   "metadata": {},
   "outputs": [],
   "source": []
  },
  {
   "cell_type": "code",
   "execution_count": null,
   "id": "0ac8ada1",
   "metadata": {},
   "outputs": [],
   "source": []
  },
  {
   "cell_type": "code",
   "execution_count": null,
   "id": "697db8ea",
   "metadata": {},
   "outputs": [],
   "source": []
  },
  {
   "cell_type": "code",
   "execution_count": null,
   "id": "2e770457",
   "metadata": {},
   "outputs": [],
   "source": []
  },
  {
   "cell_type": "code",
   "execution_count": null,
   "id": "43ca4fbd",
   "metadata": {},
   "outputs": [],
   "source": []
  }
 ],
 "metadata": {
  "kernelspec": {
   "display_name": "R",
   "language": "R",
   "name": "ir"
  },
  "language_info": {
   "codemirror_mode": "r",
   "file_extension": ".r",
   "mimetype": "text/x-r-source",
   "name": "R",
   "pygments_lexer": "r",
   "version": "4.1.2"
  }
 },
 "nbformat": 4,
 "nbformat_minor": 5
}
