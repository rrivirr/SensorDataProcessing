{
 "cells": [
  {
   "cell_type": "markdown",
   "id": "1b466c4a-debb-44f4-9fe7-c650d533c5bf",
   "metadata": {
    "tags": []
   },
   "source": [
    "# setup"
   ]
  },
  {
   "cell_type": "code",
   "execution_count": 4,
   "id": "792ffcbb-c827-4ff7-83ba-eea7c81adb33",
   "metadata": {},
   "outputs": [
    {
     "data": {
      "text/html": [
       "'/Users/jdh/SensorDataProcessing/rriv_methane/anya_methane'"
      ],
      "text/latex": [
       "'/Users/jdh/SensorDataProcessing/rriv\\_methane/anya\\_methane'"
      ],
      "text/markdown": [
       "'/Users/jdh/SensorDataProcessing/rriv_methane/anya_methane'"
      ],
      "text/plain": [
       "[1] \"/Users/jdh/SensorDataProcessing/rriv_methane/anya_methane\""
      ]
     },
     "metadata": {},
     "output_type": "display_data"
    }
   ],
   "source": [
    "# is this the folder with the script in it?\n",
    "scriptDir<-getwd()\n",
    "scriptDir\n",
    "\n",
    "# if not, uncomment and use this instead\n",
    "# scriptDir<-\"\""
   ]
  },
  {
   "cell_type": "code",
   "execution_count": 5,
   "id": "83ac26a6-0992-40d7-993f-d1304ae06d99",
   "metadata": {},
   "outputs": [
    {
     "data": {
      "text/html": [
       "'/Users/jdh/SensorDataProcessing/rriv_methane/anya_methane/methane_functions.r'"
      ],
      "text/latex": [
       "'/Users/jdh/SensorDataProcessing/rriv\\_methane/anya\\_methane/methane\\_functions.r'"
      ],
      "text/markdown": [
       "'/Users/jdh/SensorDataProcessing/rriv_methane/anya_methane/methane_functions.r'"
      ],
      "text/plain": [
       "[1] \"/Users/jdh/SensorDataProcessing/rriv_methane/anya_methane/methane_functions.r\""
      ]
     },
     "metadata": {},
     "output_type": "display_data"
    }
   ],
   "source": [
    "methaneFunctions<-paste(scriptDir,\"/methane_functions.r\",sep=\"\")\n",
    "methaneFunctions\n",
    "if (file.exists(methaneFunctions)){\n",
    "    source(methaneFunctions)\n",
    "} else {\n",
    "    print(\"manually correct the location and/or name of methane_functions.r\")\n",
    "}"
   ]
  },
  {
   "cell_type": "markdown",
   "id": "472dfbc8-52ca-40bd-bdbc-3f484b8abd52",
   "metadata": {
    "tags": []
   },
   "source": [
    "## import"
   ]
  },
  {
   "cell_type": "code",
   "execution_count": 6,
   "id": "88179a26-57dd-4c52-8d77-5ae2df204e7b",
   "metadata": {
    "tags": []
   },
   "outputs": [
    {
     "name": "stderr",
     "output_type": "stream",
     "text": [
      "\n",
      "Attaching package: ‘zoo’\n",
      "\n",
      "\n",
      "The following objects are masked from ‘package:base’:\n",
      "\n",
      "    as.Date, as.Date.numeric\n",
      "\n",
      "\n",
      "── \u001b[1mAttaching core tidyverse packages\u001b[22m ────────────────────────────────────────────────────────────────── tidyverse 2.0.0 ──\n",
      "\u001b[32m✔\u001b[39m \u001b[34mdplyr    \u001b[39m 1.1.2     \u001b[32m✔\u001b[39m \u001b[34mreadr    \u001b[39m 2.1.4\n",
      "\u001b[32m✔\u001b[39m \u001b[34mforcats  \u001b[39m 1.0.0     \u001b[32m✔\u001b[39m \u001b[34mstringr  \u001b[39m 1.5.0\n",
      "\u001b[32m✔\u001b[39m \u001b[34mggplot2  \u001b[39m 3.4.2     \u001b[32m✔\u001b[39m \u001b[34mtibble   \u001b[39m 3.2.1\n",
      "\u001b[32m✔\u001b[39m \u001b[34mlubridate\u001b[39m 1.9.2     \u001b[32m✔\u001b[39m \u001b[34mtidyr    \u001b[39m 1.3.0\n",
      "\u001b[32m✔\u001b[39m \u001b[34mpurrr    \u001b[39m 1.0.1     \n",
      "── \u001b[1mConflicts\u001b[22m ──────────────────────────────────────────────────────────────────────────────────── tidyverse_conflicts() ──\n",
      "\u001b[31m✖\u001b[39m \u001b[34mdplyr\u001b[39m::\u001b[32mfilter()\u001b[39m masks \u001b[34mstats\u001b[39m::filter()\n",
      "\u001b[31m✖\u001b[39m \u001b[34mdplyr\u001b[39m::\u001b[32mlag()\u001b[39m    masks \u001b[34mstats\u001b[39m::lag()\n",
      "\u001b[36mℹ\u001b[39m Use the conflicted package (\u001b[3m\u001b[34m<http://conflicted.r-lib.org/>\u001b[39m\u001b[23m) to force all conflicts to become errors\n",
      "\n",
      "Attaching package: ‘plotly’\n",
      "\n",
      "\n",
      "The following object is masked from ‘package:ggplot2’:\n",
      "\n",
      "    last_plot\n",
      "\n",
      "\n",
      "The following object is masked from ‘package:stats’:\n",
      "\n",
      "    filter\n",
      "\n",
      "\n",
      "The following object is masked from ‘package:graphics’:\n",
      "\n",
      "    layout\n",
      "\n",
      "\n",
      "\n",
      "Attaching package: ‘doBy’\n",
      "\n",
      "\n",
      "The following object is masked from ‘package:dplyr’:\n",
      "\n",
      "    order_by\n",
      "\n",
      "\n",
      "\n",
      "Attaching package: ‘Hmisc’\n",
      "\n",
      "\n",
      "The following object is masked from ‘package:plotly’:\n",
      "\n",
      "    subplot\n",
      "\n",
      "\n",
      "The following objects are masked from ‘package:dplyr’:\n",
      "\n",
      "    src, summarize\n",
      "\n",
      "\n",
      "The following objects are masked from ‘package:base’:\n",
      "\n",
      "    format.pval, units\n",
      "\n",
      "\n",
      "Loading required package: viridisLite\n",
      "\n",
      "Loading required package: splines\n",
      "\n",
      "Loading required package: foreach\n",
      "\n",
      "\n",
      "Attaching package: ‘foreach’\n",
      "\n",
      "\n",
      "The following objects are masked from ‘package:purrr’:\n",
      "\n",
      "    accumulate, when\n",
      "\n",
      "\n",
      "Loaded gam 1.22-2\n",
      "\n",
      "\n",
      "\n",
      "Attaching package: ‘reshape2’\n",
      "\n",
      "\n",
      "The following object is masked from ‘package:tidyr’:\n",
      "\n",
      "    smiths\n",
      "\n",
      "\n",
      "Loading required package: nlme\n",
      "\n",
      "\n",
      "Attaching package: ‘nlme’\n",
      "\n",
      "\n",
      "The following object is masked from ‘package:dplyr’:\n",
      "\n",
      "    collapse\n",
      "\n",
      "\n",
      "This is mgcv 1.8-42. For overview type 'help(\"mgcv-package\")'.\n",
      "\n",
      "\n",
      "Attaching package: ‘mgcv’\n",
      "\n",
      "\n",
      "The following objects are masked from ‘package:gam’:\n",
      "\n",
      "    gam, gam.control, gam.fit, s\n",
      "\n",
      "\n"
     ]
    }
   ],
   "source": [
    "# Package names\n",
    "packages <- c(\"zoo\",\"tidyverse\",\"dplyr\",\"plotly\" ,\"doBy\", \"lubridate\", \"ggplot2\", \"Hmisc\", \"zoo\", \"viridis\", \"gam\", \"ggeffects\", \"reshape2\", \"mgcv\")\n",
    "packageHandler(packages)"
   ]
  },
  {
   "cell_type": "markdown",
   "id": "a1ede12d-e01c-4c55-8452-ebdb38a0f6af",
   "metadata": {},
   "source": [
    "### Setting up working directory for data"
   ]
  },
  {
   "cell_type": "code",
   "execution_count": 7,
   "id": "5d2ff6ae-c155-4e2b-aadf-5f4405d754af",
   "metadata": {},
   "outputs": [],
   "source": [
    "datawd<-\"/Users/jdh/Library/CloudStorage/GoogleDrive-jakehosen@gmail.com/My Drive/WaterBear/CH4 bucket data/\""
   ]
  },
  {
   "cell_type": "markdown",
   "id": "102e6b5a-13c0-4ddb-bfd5-3f13ee198a16",
   "metadata": {},
   "source": [
    "### importing rriv calibration data from 7/24/2023\n",
    "#### Starting with RRIV data"
   ]
  },
  {
   "cell_type": "code",
   "execution_count": 8,
   "id": "e1c213b7-9787-4a70-9405-fa1df039ee82",
   "metadata": {},
   "outputs": [
    {
     "name": "stderr",
     "output_type": "stream",
     "text": [
      "Warning message:\n",
      "“\u001b[1m\u001b[22mOne or more parsing issues, call `problems()` on your data frame for details, e.g.:\n",
      "  dat <- vroom(...)\n",
      "  problems(dat)”\n",
      "Warning message:\n",
      "“\u001b[1m\u001b[22mOne or more parsing issues, call `problems()` on your data frame for details, e.g.:\n",
      "  dat <- vroom(...)\n",
      "  problems(dat)”\n",
      "Warning message:\n",
      "“\u001b[1m\u001b[22mOne or more parsing issues, call `problems()` on your data frame for details, e.g.:\n",
      "  dat <- vroom(...)\n",
      "  problems(dat)”\n",
      "Warning message:\n",
      "“\u001b[1m\u001b[22mOne or more parsing issues, call `problems()` on your data frame for details, e.g.:\n",
      "  dat <- vroom(...)\n",
      "  problems(dat)”\n",
      "Warning message:\n",
      "“\u001b[1m\u001b[22mOne or more parsing issues, call `problems()` on your data frame for details, e.g.:\n",
      "  dat <- vroom(...)\n",
      "  problems(dat)”\n",
      "Warning message:\n",
      "“\u001b[1m\u001b[22mOne or more parsing issues, call `problems()` on your data frame for details, e.g.:\n",
      "  dat <- vroom(...)\n",
      "  problems(dat)”\n"
     ]
    },
    {
     "name": "stdout",
     "output_type": "stream",
     "text": [
      "[1] \"Dataframe generated, manually process column types if necessary\"\n"
     ]
    }
   ],
   "source": [
    "d20230724<-\"/Users/jdh/Library/CloudStorage/GoogleDrive-jakehosen@gmail.com/My Drive/WaterBear/CH4 bucket data/20230724-outside/RRIV\"\n",
    "rriv_cal_20230724<-concat_dirs(d20230724, read_rriv_CSV, filePattern=\".CSV\", minFileSize=400)\n",
    "rriv_cal_20230724<-process_rriv_columns(rriv_cal_20230724)\n",
    "rriv_cal_20230724$Time<-rriv_cal_20230724$time.h"
   ]
  },
  {
   "cell_type": "code",
   "execution_count": null,
   "id": "4f5c8a18-2aeb-436f-9508-102b89d03e98",
   "metadata": {},
   "outputs": [],
   "source": []
  },
  {
   "cell_type": "markdown",
   "id": "6fde9244-dd00-45cc-b91b-e0e9d5e67ea1",
   "metadata": {},
   "source": [
    "#### Now importing LGR data"
   ]
  },
  {
   "cell_type": "code",
   "execution_count": 9,
   "id": "817106da-9456-4392-9eaa-5fe6e106a82b",
   "metadata": {},
   "outputs": [
    {
     "name": "stdout",
     "output_type": "stream",
     "text": [
      "[1] \"Dataframe generated, manually process column types if necessary\"\n"
     ]
    }
   ],
   "source": [
    "lgr_20230724<-\"/Users/jdh/Library/CloudStorage/GoogleDrive-jakehosen@gmail.com/My Drive/WaterBear/CH4 bucket data/20230724-outside/LGR/2023-07-24\"\n",
    "lgr_data_20230724<-concat_dirs(lgr_20230724, read_GA_ZIP, filePattern=\".zip\", minFileSize=300)\n",
    "lgr_data_20230724$Time<-lubridate::as_datetime(lgr_data_20230724$Time)\n"
   ]
  },
  {
   "cell_type": "markdown",
   "id": "16e538e2-bbdf-423e-8c2c-063a8cca7c5e",
   "metadata": {},
   "source": [
    "#### Creating a data frame with 1 minute intervals that spans the same date/time range as the RRIV calibration data."
   ]
  },
  {
   "cell_type": "code",
   "execution_count": 10,
   "id": "f6ccf1df-361e-4130-9ce6-0591918da8d5",
   "metadata": {},
   "outputs": [],
   "source": [
    "rriv_assembly_df<-data.frame(Time=as.POSIXct(seq(as.numeric(range(rriv_cal_20230724$Time)[1]),as.numeric(range(rriv_cal_20230724$Time)[2]),by=60)))"
   ]
  },
  {
   "cell_type": "code",
   "execution_count": null,
   "id": "fe4d7d7d-256c-45df-bee0-33bc963608b1",
   "metadata": {},
   "outputs": [],
   "source": []
  },
  {
   "cell_type": "markdown",
   "id": "9a35abf7-180d-470c-8573-9b1990dc7379",
   "metadata": {},
   "source": [
    "#### Interpolating RRIV and LGR data to the new dataframe for Cal 1 and then removing hours without any data."
   ]
  },
  {
   "cell_type": "code",
   "execution_count": 11,
   "id": "aa0d8ee0-981b-4ce4-b543-e5453af1fd93",
   "metadata": {},
   "outputs": [],
   "source": [
    "rriv_cal_20230724_cal1<-subset(rriv_cal_20230724,logger==\"CAL1\")\n",
    "rriv_cal_20230724_cal1$hour<-hour(rriv_cal_20230724_cal1$Time)\n",
    "rriv_cal_20230724_cal1$day<-day(rriv_cal_20230724_cal1$Time)\n",
    "\n",
    "\n",
    "rriv_assembly_df$ch4_raw_int<-approx(rriv_cal_20230724_cal1$Time,rriv_cal_20230724_cal1$ch4_raw,xout=rriv_assembly_df$Time)$y\n",
    "rriv_assembly_df$aht_RH_int<-approx(rriv_cal_20230724_cal1$Time,rriv_cal_20230724_cal1$aht_RH,xout=rriv_assembly_df$Time)$y\n",
    "rriv_assembly_df$aht_C_int<-approx(rriv_cal_20230724_cal1$Time,rriv_cal_20230724_cal1$aht_C,xout=rriv_assembly_df$Time)$y\n",
    "\n",
    "rriv_assembly_df$lgr_ch4<-approx(lgr_data_20230724$Time,lgr_data_20230724$X.CH4._ppm,xout=rriv_assembly_df$Time)$y\n",
    "rriv_assembly_df$uuid<-unique(rriv_cal_20230724_cal1$uuid)\n",
    "\n",
    "rriv_assembly_df$hour<-hour(rriv_assembly_df$Time)\n",
    "rriv_assembly_df$day<-day(rriv_assembly_df$Time)\n",
    "\n",
    "\n",
    "assembly_nogap_cal1<-merge(rriv_assembly_df,rriv_cal_20230724_cal1[,c(\"hour\",\"day\")],by=c(\"hour\",\"day\"))"
   ]
  },
  {
   "cell_type": "code",
   "execution_count": 12,
   "id": "f1e55ea5-b45f-4489-8532-42282a6730e8",
   "metadata": {},
   "outputs": [],
   "source": [
    "rriv_cal_20230724_cal1<-subset(rriv_cal_20230724,logger==\"CAL3\")\n",
    "rriv_cal_20230724_cal1$hour<-hour(rriv_cal_20230724_cal1$Time)\n",
    "rriv_cal_20230724_cal1$day<-day(rriv_cal_20230724_cal1$Time)\n",
    "\n",
    "\n",
    "rriv_assembly_df$ch4_raw_int<-approx(rriv_cal_20230724_cal1$Time,rriv_cal_20230724_cal1$ch4_raw,xout=rriv_assembly_df$Time)$y\n",
    "rriv_assembly_df$aht_RH_int<-approx(rriv_cal_20230724_cal1$Time,rriv_cal_20230724_cal1$aht_RH,xout=rriv_assembly_df$Time)$y\n",
    "rriv_assembly_df$aht_C_int<-approx(rriv_cal_20230724_cal1$Time,rriv_cal_20230724_cal1$aht_C,xout=rriv_assembly_df$Time)$y\n",
    "\n",
    "rriv_assembly_df$lgr_ch4<-approx(lgr_data_20230724$Time,lgr_data_20230724$X.CH4._ppm,xout=rriv_assembly_df$Time)$y\n",
    "rriv_assembly_df$uuid<-unique(rriv_cal_20230724_cal1$uuid)\n",
    "\n",
    "rriv_assembly_df$hour<-hour(rriv_assembly_df$Time)\n",
    "rriv_assembly_df$day<-day(rriv_assembly_df$Time)\n",
    "\n",
    "\n",
    "assembly_nogap_cal3<-merge(rriv_assembly_df,rriv_cal_20230724_cal1[,c(\"hour\",\"day\")],by=c(\"hour\",\"day\"))"
   ]
  },
  {
   "cell_type": "code",
   "execution_count": 13,
   "id": "2cdc4b3d-2b61-48f3-b8cf-8ced489f150c",
   "metadata": {},
   "outputs": [
    {
     "name": "stderr",
     "output_type": "stream",
     "text": [
      "Warning message:\n",
      "“\u001b[1m\u001b[22mRemoved 5280 rows containing missing values (`geom_point()`).”\n"
     ]
    },
    {
     "data": {
      "image/png": "[encoded data removed]",
      "text/plain": [
       "plot without title"
      ]
     },
     "metadata": {
      "image/png": {
       "height": 420,
       "width": 420
      }
     },
     "output_type": "display_data"
    }
   ],
   "source": [
    "ggplot(assembly_nogap_cal3,aes(ch4_raw_int,lgr_ch4))+geom_point()"
   ]
  },
  {
   "cell_type": "code",
   "execution_count": 14,
   "id": "fad395d8-663f-48be-97cf-6477b40cae43",
   "metadata": {},
   "outputs": [
    {
     "name": "stderr",
     "output_type": "stream",
     "text": [
      "Warning message:\n",
      "“\u001b[1m\u001b[22mOne or more parsing issues, call `problems()` on your data frame for details, e.g.:\n",
      "  dat <- vroom(...)\n",
      "  problems(dat)”\n",
      "Warning message:\n",
      "“\u001b[1m\u001b[22mOne or more parsing issues, call `problems()` on your data frame for details, e.g.:\n",
      "  dat <- vroom(...)\n",
      "  problems(dat)”\n",
      "Warning message:\n",
      "“\u001b[1m\u001b[22mOne or more parsing issues, call `problems()` on your data frame for details, e.g.:\n",
      "  dat <- vroom(...)\n",
      "  problems(dat)”\n",
      "Warning message:\n",
      "“\u001b[1m\u001b[22mOne or more parsing issues, call `problems()` on your data frame for details, e.g.:\n",
      "  dat <- vroom(...)\n",
      "  problems(dat)”\n",
      "Warning message:\n",
      "“\u001b[1m\u001b[22mOne or more parsing issues, call `problems()` on your data frame for details, e.g.:\n",
      "  dat <- vroom(...)\n",
      "  problems(dat)”\n",
      "Warning message:\n",
      "“\u001b[1m\u001b[22mOne or more parsing issues, call `problems()` on your data frame for details, e.g.:\n",
      "  dat <- vroom(...)\n",
      "  problems(dat)”\n",
      "Warning message:\n",
      "“\u001b[1m\u001b[22mOne or more parsing issues, call `problems()` on your data frame for details, e.g.:\n",
      "  dat <- vroom(...)\n",
      "  problems(dat)”\n"
     ]
    },
    {
     "name": "stdout",
     "output_type": "stream",
     "text": [
      "[1] \"Dataframe generated, manually process column types if necessary\"\n"
     ]
    }
   ],
   "source": [
    "b3_exp_d<-\"/Users/jdh/Library/CloudStorage/GoogleDrive-jakehosen@gmail.com/My Drive/WaterBear/CH4 bucket data/20230717/B3/WB\"\n",
    "b3_exp<-concat_dirs(b3_exp_d, read_rriv_CSV, filePattern=\".CSV\", minFileSize=400)\n",
    "b3_exp<-process_rriv_columns(b3_exp)\n",
    "b3_exp$Time<-b3_exp$time.h"
   ]
  },
  {
   "cell_type": "code",
   "execution_count": 16,
   "id": "69b7ddf1-02f0-4c45-96cc-493ef8275cf3",
   "metadata": {},
   "outputs": [
    {
     "data": {
      "text/html": [
       "<style>\n",
       ".list-inline {list-style: none; margin:0; padding: 0}\n",
       ".list-inline>li {display: inline-block}\n",
       ".list-inline>li:not(:last-child)::after {content: \"\\00b7\"; padding: 0 .5ex}\n",
       "</style>\n",
       "<ol class=list-inline><li>'type'</li><li>'site'</li><li>'logger'</li><li>'deployment'</li><li>'deployed_at'</li><li>'uuid'</li><li>'time.s'</li><li>'time.h'</li><li>'battery.V'</li><li>'aht_C'</li><li>'aht_RH'</li><li>'ch4_raw'</li><li>'ch4_cal'</li><li>'user_note'</li><li>'user_value'</li><li>'Time'</li></ol>\n"
      ],
      "text/latex": [
       "\\begin{enumerate*}\n",
       "\\item 'type'\n",
       "\\item 'site'\n",
       "\\item 'logger'\n",
       "\\item 'deployment'\n",
       "\\item 'deployed\\_at'\n",
       "\\item 'uuid'\n",
       "\\item 'time.s'\n",
       "\\item 'time.h'\n",
       "\\item 'battery.V'\n",
       "\\item 'aht\\_C'\n",
       "\\item 'aht\\_RH'\n",
       "\\item 'ch4\\_raw'\n",
       "\\item 'ch4\\_cal'\n",
       "\\item 'user\\_note'\n",
       "\\item 'user\\_value'\n",
       "\\item 'Time'\n",
       "\\end{enumerate*}\n"
      ],
      "text/markdown": [
       "1. 'type'\n",
       "2. 'site'\n",
       "3. 'logger'\n",
       "4. 'deployment'\n",
       "5. 'deployed_at'\n",
       "6. 'uuid'\n",
       "7. 'time.s'\n",
       "8. 'time.h'\n",
       "9. 'battery.V'\n",
       "10. 'aht_C'\n",
       "11. 'aht_RH'\n",
       "12. 'ch4_raw'\n",
       "13. 'ch4_cal'\n",
       "14. 'user_note'\n",
       "15. 'user_value'\n",
       "16. 'Time'\n",
       "\n",
       "\n"
      ],
      "text/plain": [
       " [1] \"type\"        \"site\"        \"logger\"      \"deployment\"  \"deployed_at\"\n",
       " [6] \"uuid\"        \"time.s\"      \"time.h\"      \"battery.V\"   \"aht_C\"      \n",
       "[11] \"aht_RH\"      \"ch4_raw\"     \"ch4_cal\"     \"user_note\"   \"user_value\" \n",
       "[16] \"Time\"       "
      ]
     },
     "metadata": {},
     "output_type": "display_data"
    },
    {
     "data": {
      "text/html": [
       "<style>\n",
       ".list-inline {list-style: none; margin:0; padding: 0}\n",
       ".list-inline>li {display: inline-block}\n",
       ".list-inline>li:not(:last-child)::after {content: \"\\00b7\"; padding: 0 .5ex}\n",
       "</style>\n",
       "<ol class=list-inline><li>'hour'</li><li>'day'</li><li>'Time'</li><li>'ch4_raw_int'</li><li>'aht_RH_int'</li><li>'aht_C_int'</li><li>'lgr_ch4'</li><li>'uuid'</li></ol>\n"
      ],
      "text/latex": [
       "\\begin{enumerate*}\n",
       "\\item 'hour'\n",
       "\\item 'day'\n",
       "\\item 'Time'\n",
       "\\item 'ch4\\_raw\\_int'\n",
       "\\item 'aht\\_RH\\_int'\n",
       "\\item 'aht\\_C\\_int'\n",
       "\\item 'lgr\\_ch4'\n",
       "\\item 'uuid'\n",
       "\\end{enumerate*}\n"
      ],
      "text/markdown": [
       "1. 'hour'\n",
       "2. 'day'\n",
       "3. 'Time'\n",
       "4. 'ch4_raw_int'\n",
       "5. 'aht_RH_int'\n",
       "6. 'aht_C_int'\n",
       "7. 'lgr_ch4'\n",
       "8. 'uuid'\n",
       "\n",
       "\n"
      ],
      "text/plain": [
       "[1] \"hour\"        \"day\"         \"Time\"        \"ch4_raw_int\" \"aht_RH_int\" \n",
       "[6] \"aht_C_int\"   \"lgr_ch4\"     \"uuid\"       "
      ]
     },
     "metadata": {},
     "output_type": "display_data"
    },
    {
     "data": {
      "text/html": [
       "57FF6F068387575149330867\n",
       "<details>\n",
       "\t<summary style=display:list-item;cursor:pointer>\n",
       "\t\t<strong>Levels</strong>:\n",
       "\t</summary>\n",
       "\t'57FF6F068387575149330867'\n",
       "</details>"
      ],
      "text/latex": [
       "57FF6F068387575149330867\n",
       "\\emph{Levels}: '57FF6F068387575149330867'"
      ],
      "text/markdown": [
       "57FF6F068387575149330867\n",
       "**Levels**: '57FF6F068387575149330867'"
      ],
      "text/plain": [
       "[1] 57FF6F068387575149330867\n",
       "Levels: 57FF6F068387575149330867"
      ]
     },
     "metadata": {},
     "output_type": "display_data"
    },
    {
     "data": {
      "text/html": [
       "57FF6F068387575149330867\n",
       "<details>\n",
       "\t<summary style=display:list-item;cursor:pointer>\n",
       "\t\t<strong>Levels</strong>:\n",
       "\t</summary>\n",
       "\t<style>\n",
       "\t.list-inline {list-style: none; margin:0; padding: 0}\n",
       "\t.list-inline>li {display: inline-block}\n",
       "\t.list-inline>li:not(:last-child)::after {content: \"\\00b7\"; padding: 0 .5ex}\n",
       "\t</style>\n",
       "\t<ol class=list-inline><li>'50FF6D068678545249232467'</li><li>'57FF6E068387575140070767'</li><li>'57FF6E068387575148360767'</li><li>'57FF6F068387575149330867'</li></ol>\n",
       "</details>"
      ],
      "text/latex": [
       "57FF6F068387575149330867\n",
       "\\emph{Levels}: \\begin{enumerate*}\n",
       "\\item '50FF6D068678545249232467'\n",
       "\\item '57FF6E068387575140070767'\n",
       "\\item '57FF6E068387575148360767'\n",
       "\\item '57FF6F068387575149330867'\n",
       "\\end{enumerate*}\n"
      ],
      "text/markdown": [
       "57FF6F068387575149330867\n",
       "**Levels**: 1. '50FF6D068678545249232467'\n",
       "2. '57FF6E068387575140070767'\n",
       "3. '57FF6E068387575148360767'\n",
       "4. '57FF6F068387575149330867'\n",
       "\n",
       "\n"
      ],
      "text/plain": [
       "[1] 57FF6F068387575149330867\n",
       "4 Levels: 50FF6D068678545249232467 ... 57FF6F068387575149330867"
      ]
     },
     "metadata": {},
     "output_type": "display_data"
    },
    {
     "data": {
      "text/plain": [
       "\n",
       "Call:\n",
       "lm(formula = lgr_ch4_log10 ~ ch4_raw_log10, data = assembly_nogap_cal3)\n",
       "\n",
       "Residuals:\n",
       "     Min       1Q   Median       3Q      Max \n",
       "-0.48801 -0.02192 -0.00780  0.04682  0.10621 \n",
       "\n",
       "Coefficients:\n",
       "               Estimate Std. Error t value Pr(>|t|)    \n",
       "(Intercept)   -8.273942   0.004387   -1886   <2e-16 ***\n",
       "ch4_raw_log10  3.438526   0.001431    2403   <2e-16 ***\n",
       "---\n",
       "Signif. codes:  0 ‘***’ 0.001 ‘**’ 0.01 ‘*’ 0.05 ‘.’ 0.1 ‘ ’ 1\n",
       "\n",
       "Residual standard error: 0.07736 on 197998 degrees of freedom\n",
       "  (5280 observations deleted due to missingness)\n",
       "Multiple R-squared:  0.9668,\tAdjusted R-squared:  0.9668 \n",
       "F-statistic: 5.774e+06 on 1 and 197998 DF,  p-value: < 2.2e-16\n"
      ]
     },
     "metadata": {},
     "output_type": "display_data"
    },
    {
     "data": {
      "text/plain": [
       "\n",
       "Call:\n",
       "lm(formula = lgr_ch4 ~ ch4_raw, data = assembly_nogap_cal3)\n",
       "\n",
       "Residuals:\n",
       "    Min      1Q  Median      3Q     Max \n",
       "-59.230 -34.874  -1.501  26.202  88.025 \n",
       "\n",
       "Coefficients:\n",
       "              Estimate Std. Error t value Pr(>|t|)    \n",
       "(Intercept) -3.779e+02  3.509e-01   -1077   <2e-16 ***\n",
       "ch4_raw      5.264e-01  2.834e-04    1857   <2e-16 ***\n",
       "---\n",
       "Signif. codes:  0 ‘***’ 0.001 ‘**’ 0.01 ‘*’ 0.05 ‘.’ 0.1 ‘ ’ 1\n",
       "\n",
       "Residual standard error: 38.32 on 197998 degrees of freedom\n",
       "  (5280 observations deleted due to missingness)\n",
       "Multiple R-squared:  0.9457,\tAdjusted R-squared:  0.9457 \n",
       "F-statistic: 3.45e+06 on 1 and 197998 DF,  p-value: < 2.2e-16\n"
      ]
     },
     "metadata": {},
     "output_type": "display_data"
    },
    {
     "name": "stderr",
     "output_type": "stream",
     "text": [
      "Warning message:\n",
      "“\u001b[1m\u001b[22mRemoved 5280 rows containing missing values (`geom_point()`).”\n"
     ]
    },
    {
     "data": {
      "image/png": "[encoded data removed]",
      "text/plain": [
       "plot without title"
      ]
     },
     "metadata": {
      "image/png": {
       "height": 420,
       "width": 420
      }
     },
     "output_type": "display_data"
    },
    {
     "data": {
      "image/png": "[encoded data removed]",
      "text/plain": [
       "plot without title"
      ]
     },
     "metadata": {
      "image/png": {
       "height": 420,
       "width": 420
      }
     },
     "output_type": "display_data"
    }
   ],
   "source": [
    "names(b3_exp)\n",
    "names(assembly_nogap_cal3)\n",
    "unique(b3_exp$uuid)\n",
    "unique(assembly_nogap_cal3$uuid)\n",
    "\n",
    "b3_exp$ch4_raw_log10<-log10(b3_exp$ch4_raw)\n",
    "assembly_nogap_cal3$ch4_raw<-assembly_nogap_cal3$ch4_raw_int\n",
    "assembly_nogap_cal3$ch4_raw_log10<-log10(assembly_nogap_cal3$ch4_raw_int)\n",
    "assembly_nogap_cal3$lgr_ch4_log10<-log10(assembly_nogap_cal3$lgr_ch4)\n",
    "\n",
    "cal2_ch4_lm<-lm(lgr_ch4_log10~ch4_raw_log10,assembly_nogap_cal3)\n",
    "summary(cal2_ch4_lm)\n",
    "cal2_ch4_lm_nolog<-lm(lgr_ch4~ch4_raw,assembly_nogap_cal3)\n",
    "summary(cal2_ch4_lm_nolog)\n",
    "\n",
    "b3_exp$ch4_ppm_pred<-predict(cal2_ch4_lm_nolog,newdata=b3_exp)\n",
    "\n",
    "ggplot(assembly_nogap_cal3,aes(ch4_raw_int,lgr_ch4))+geom_point()\n",
    "ggplot(b3_exp,aes(Time,ch4_ppm_pred))+geom_point()"
   ]
  },
  {
   "cell_type": "code",
   "execution_count": null,
   "id": "743d2bc6-9e90-457a-9e29-9c6909630cd1",
   "metadata": {},
   "outputs": [],
   "source": [
    "options(warn=-1)\n",
    "fig <- plot_ly(data = b2_exp, x = ~Time, y = ~ch4_ppm_pred,mode   = 'markers', type   = 'scatter')\n",
    "\n",
    "\n",
    "fig\n",
    "options(warn=1)\n",
    "\n",
    "\n"
   ]
  },
  {
   "cell_type": "code",
   "execution_count": 17,
   "id": "6fadab3d-0220-4850-bfe5-7f9475b89792",
   "metadata": {},
   "outputs": [
    {
     "data": {
      "text/html": [
       "<table class=\"dataframe\">\n",
       "<caption>A tibble: 6 × 18</caption>\n",
       "<thead>\n",
       "\t<tr><th scope=col>type</th><th scope=col>site</th><th scope=col>logger</th><th scope=col>deployment</th><th scope=col>deployed_at</th><th scope=col>uuid</th><th scope=col>time.s</th><th scope=col>time.h</th><th scope=col>battery.V</th><th scope=col>aht_C</th><th scope=col>aht_RH</th><th scope=col>ch4_raw</th><th scope=col>ch4_cal</th><th scope=col>user_note</th><th scope=col>user_value</th><th scope=col>Time</th><th scope=col>ch4_raw_log10</th><th scope=col>ch4_ppm_pred</th></tr>\n",
       "\t<tr><th scope=col>&lt;fct&gt;</th><th scope=col>&lt;fct&gt;</th><th scope=col>&lt;fct&gt;</th><th scope=col>&lt;fct&gt;</th><th scope=col>&lt;int&gt;</th><th scope=col>&lt;fct&gt;</th><th scope=col>&lt;dbl&gt;</th><th scope=col>&lt;dttm&gt;</th><th scope=col>&lt;dbl&gt;</th><th scope=col>&lt;dbl&gt;</th><th scope=col>&lt;dbl&gt;</th><th scope=col>&lt;dbl&gt;</th><th scope=col>&lt;dbl&gt;</th><th scope=col>&lt;chr&gt;</th><th scope=col>&lt;chr&gt;</th><th scope=col>&lt;dttm&gt;</th><th scope=col>&lt;dbl&gt;</th><th scope=col>&lt;dbl&gt;</th></tr>\n",
       "</thead>\n",
       "<tbody>\n",
       "\t<tr><td>raw</td><td>PWA</td><td>WB3</td><td>land_soil-57FF6F068387575149330867-1689089353</td><td>1689089353</td><td>57FF6F068387575149330867</td><td>1689100204</td><td>2023-07-11 18:30:18</td><td>352</td><td>34.94</td><td>94.58</td><td>1716</td><td>0</td><td>NA</td><td>NA</td><td>2023-07-11 18:30:18</td><td>3.234517</td><td>525.4419</td></tr>\n",
       "\t<tr><td>raw</td><td>PWA</td><td>WB3</td><td>land_soil-57FF6F068387575149330867-1689089353</td><td>1689089353</td><td>57FF6F068387575149330867</td><td>1689100234</td><td>2023-07-11 18:30:18</td><td>360</td><td>34.89</td><td>94.50</td><td>1715</td><td>0</td><td>NA</td><td>NA</td><td>2023-07-11 18:30:18</td><td>3.234264</td><td>524.9155</td></tr>\n",
       "\t<tr><td>raw</td><td>PWA</td><td>WB3</td><td>land_soil-57FF6F068387575149330867-1689089353</td><td>1689089353</td><td>57FF6F068387575149330867</td><td>1689100264</td><td>2023-07-11 18:31:18</td><td>353</td><td>34.87</td><td>94.55</td><td>1714</td><td>0</td><td>NA</td><td>NA</td><td>2023-07-11 18:31:18</td><td>3.234011</td><td>524.3891</td></tr>\n",
       "\t<tr><td>raw</td><td>PWA</td><td>WB3</td><td>land_soil-57FF6F068387575149330867-1689089353</td><td>1689089353</td><td>57FF6F068387575149330867</td><td>1689100294</td><td>2023-07-11 18:31:19</td><td>352</td><td>34.85</td><td>94.48</td><td>1713</td><td>0</td><td>NA</td><td>NA</td><td>2023-07-11 18:31:19</td><td>3.233757</td><td>523.8627</td></tr>\n",
       "\t<tr><td>raw</td><td>PWA</td><td>WB3</td><td>land_soil-57FF6F068387575149330867-1689089353</td><td>1689089353</td><td>57FF6F068387575149330867</td><td>1689100324</td><td>2023-07-11 18:32:19</td><td>358</td><td>34.81</td><td>94.47</td><td>1712</td><td>0</td><td>NA</td><td>NA</td><td>2023-07-11 18:32:19</td><td>3.233504</td><td>523.3363</td></tr>\n",
       "\t<tr><td>raw</td><td>PWA</td><td>WB3</td><td>land_soil-57FF6F068387575149330867-1689089353</td><td>1689089353</td><td>57FF6F068387575149330867</td><td>1689100354</td><td>2023-07-11 18:32:19</td><td>358</td><td>34.81</td><td>94.45</td><td>1711</td><td>0</td><td>NA</td><td>NA</td><td>2023-07-11 18:32:19</td><td>3.233250</td><td>522.8099</td></tr>\n",
       "</tbody>\n",
       "</table>\n"
      ],
      "text/latex": [
       "A tibble: 6 × 18\n",
       "\\begin{tabular}{llllllllllllllllll}\n",
       " type & site & logger & deployment & deployed\\_at & uuid & time.s & time.h & battery.V & aht\\_C & aht\\_RH & ch4\\_raw & ch4\\_cal & user\\_note & user\\_value & Time & ch4\\_raw\\_log10 & ch4\\_ppm\\_pred\\\\\n",
       " <fct> & <fct> & <fct> & <fct> & <int> & <fct> & <dbl> & <dttm> & <dbl> & <dbl> & <dbl> & <dbl> & <dbl> & <chr> & <chr> & <dttm> & <dbl> & <dbl>\\\\\n",
       "\\hline\n",
       "\t raw & PWA & WB3 & land\\_soil-57FF6F068387575149330867-1689089353 & 1689089353 & 57FF6F068387575149330867 & 1689100204 & 2023-07-11 18:30:18 & 352 & 34.94 & 94.58 & 1716 & 0 & NA & NA & 2023-07-11 18:30:18 & 3.234517 & 525.4419\\\\\n",
       "\t raw & PWA & WB3 & land\\_soil-57FF6F068387575149330867-1689089353 & 1689089353 & 57FF6F068387575149330867 & 1689100234 & 2023-07-11 18:30:18 & 360 & 34.89 & 94.50 & 1715 & 0 & NA & NA & 2023-07-11 18:30:18 & 3.234264 & 524.9155\\\\\n",
       "\t raw & PWA & WB3 & land\\_soil-57FF6F068387575149330867-1689089353 & 1689089353 & 57FF6F068387575149330867 & 1689100264 & 2023-07-11 18:31:18 & 353 & 34.87 & 94.55 & 1714 & 0 & NA & NA & 2023-07-11 18:31:18 & 3.234011 & 524.3891\\\\\n",
       "\t raw & PWA & WB3 & land\\_soil-57FF6F068387575149330867-1689089353 & 1689089353 & 57FF6F068387575149330867 & 1689100294 & 2023-07-11 18:31:19 & 352 & 34.85 & 94.48 & 1713 & 0 & NA & NA & 2023-07-11 18:31:19 & 3.233757 & 523.8627\\\\\n",
       "\t raw & PWA & WB3 & land\\_soil-57FF6F068387575149330867-1689089353 & 1689089353 & 57FF6F068387575149330867 & 1689100324 & 2023-07-11 18:32:19 & 358 & 34.81 & 94.47 & 1712 & 0 & NA & NA & 2023-07-11 18:32:19 & 3.233504 & 523.3363\\\\\n",
       "\t raw & PWA & WB3 & land\\_soil-57FF6F068387575149330867-1689089353 & 1689089353 & 57FF6F068387575149330867 & 1689100354 & 2023-07-11 18:32:19 & 358 & 34.81 & 94.45 & 1711 & 0 & NA & NA & 2023-07-11 18:32:19 & 3.233250 & 522.8099\\\\\n",
       "\\end{tabular}\n"
      ],
      "text/markdown": [
       "\n",
       "A tibble: 6 × 18\n",
       "\n",
       "| type &lt;fct&gt; | site &lt;fct&gt; | logger &lt;fct&gt; | deployment &lt;fct&gt; | deployed_at &lt;int&gt; | uuid &lt;fct&gt; | time.s &lt;dbl&gt; | time.h &lt;dttm&gt; | battery.V &lt;dbl&gt; | aht_C &lt;dbl&gt; | aht_RH &lt;dbl&gt; | ch4_raw &lt;dbl&gt; | ch4_cal &lt;dbl&gt; | user_note &lt;chr&gt; | user_value &lt;chr&gt; | Time &lt;dttm&gt; | ch4_raw_log10 &lt;dbl&gt; | ch4_ppm_pred &lt;dbl&gt; |\n",
       "|---|---|---|---|---|---|---|---|---|---|---|---|---|---|---|---|---|---|\n",
       "| raw | PWA | WB3 | land_soil-57FF6F068387575149330867-1689089353 | 1689089353 | 57FF6F068387575149330867 | 1689100204 | 2023-07-11 18:30:18 | 352 | 34.94 | 94.58 | 1716 | 0 | NA | NA | 2023-07-11 18:30:18 | 3.234517 | 525.4419 |\n",
       "| raw | PWA | WB3 | land_soil-57FF6F068387575149330867-1689089353 | 1689089353 | 57FF6F068387575149330867 | 1689100234 | 2023-07-11 18:30:18 | 360 | 34.89 | 94.50 | 1715 | 0 | NA | NA | 2023-07-11 18:30:18 | 3.234264 | 524.9155 |\n",
       "| raw | PWA | WB3 | land_soil-57FF6F068387575149330867-1689089353 | 1689089353 | 57FF6F068387575149330867 | 1689100264 | 2023-07-11 18:31:18 | 353 | 34.87 | 94.55 | 1714 | 0 | NA | NA | 2023-07-11 18:31:18 | 3.234011 | 524.3891 |\n",
       "| raw | PWA | WB3 | land_soil-57FF6F068387575149330867-1689089353 | 1689089353 | 57FF6F068387575149330867 | 1689100294 | 2023-07-11 18:31:19 | 352 | 34.85 | 94.48 | 1713 | 0 | NA | NA | 2023-07-11 18:31:19 | 3.233757 | 523.8627 |\n",
       "| raw | PWA | WB3 | land_soil-57FF6F068387575149330867-1689089353 | 1689089353 | 57FF6F068387575149330867 | 1689100324 | 2023-07-11 18:32:19 | 358 | 34.81 | 94.47 | 1712 | 0 | NA | NA | 2023-07-11 18:32:19 | 3.233504 | 523.3363 |\n",
       "| raw | PWA | WB3 | land_soil-57FF6F068387575149330867-1689089353 | 1689089353 | 57FF6F068387575149330867 | 1689100354 | 2023-07-11 18:32:19 | 358 | 34.81 | 94.45 | 1711 | 0 | NA | NA | 2023-07-11 18:32:19 | 3.233250 | 522.8099 |\n",
       "\n"
      ],
      "text/plain": [
       "  type site logger deployment                                    deployed_at\n",
       "1 raw  PWA  WB3    land_soil-57FF6F068387575149330867-1689089353 1689089353 \n",
       "2 raw  PWA  WB3    land_soil-57FF6F068387575149330867-1689089353 1689089353 \n",
       "3 raw  PWA  WB3    land_soil-57FF6F068387575149330867-1689089353 1689089353 \n",
       "4 raw  PWA  WB3    land_soil-57FF6F068387575149330867-1689089353 1689089353 \n",
       "5 raw  PWA  WB3    land_soil-57FF6F068387575149330867-1689089353 1689089353 \n",
       "6 raw  PWA  WB3    land_soil-57FF6F068387575149330867-1689089353 1689089353 \n",
       "  uuid                     time.s     time.h              battery.V aht_C\n",
       "1 57FF6F068387575149330867 1689100204 2023-07-11 18:30:18 352       34.94\n",
       "2 57FF6F068387575149330867 1689100234 2023-07-11 18:30:18 360       34.89\n",
       "3 57FF6F068387575149330867 1689100264 2023-07-11 18:31:18 353       34.87\n",
       "4 57FF6F068387575149330867 1689100294 2023-07-11 18:31:19 352       34.85\n",
       "5 57FF6F068387575149330867 1689100324 2023-07-11 18:32:19 358       34.81\n",
       "6 57FF6F068387575149330867 1689100354 2023-07-11 18:32:19 358       34.81\n",
       "  aht_RH ch4_raw ch4_cal user_note user_value Time                ch4_raw_log10\n",
       "1 94.58  1716    0       NA        NA         2023-07-11 18:30:18 3.234517     \n",
       "2 94.50  1715    0       NA        NA         2023-07-11 18:30:18 3.234264     \n",
       "3 94.55  1714    0       NA        NA         2023-07-11 18:31:18 3.234011     \n",
       "4 94.48  1713    0       NA        NA         2023-07-11 18:31:19 3.233757     \n",
       "5 94.47  1712    0       NA        NA         2023-07-11 18:32:19 3.233504     \n",
       "6 94.45  1711    0       NA        NA         2023-07-11 18:32:19 3.233250     \n",
       "  ch4_ppm_pred\n",
       "1 525.4419    \n",
       "2 524.9155    \n",
       "3 524.3891    \n",
       "4 523.8627    \n",
       "5 523.3363    \n",
       "6 522.8099    "
      ]
     },
     "metadata": {},
     "output_type": "display_data"
    }
   ],
   "source": [
    "b3_exp_summary<-subset(b3_exp,type==\"raw\")\n",
    "head(b3_exp_summary)"
   ]
  },
  {
   "cell_type": "code",
   "execution_count": 18,
   "id": "6798b32a-3d88-406b-a999-a89d6414a29a",
   "metadata": {},
   "outputs": [
    {
     "data": {
      "text/html": [
       "6"
      ],
      "text/latex": [
       "6"
      ],
      "text/markdown": [
       "6"
      ],
      "text/plain": [
       "[1] 6"
      ]
     },
     "metadata": {},
     "output_type": "display_data"
    },
    {
     "data": {
      "image/png": "[encoded data removed]",
      "text/plain": [
       "Plot with title “Histogram of as.numeric(b3_exp_summary$time_diff)”"
      ]
     },
     "metadata": {
      "image/png": {
       "height": 420,
       "width": 420
      }
     },
     "output_type": "display_data"
    }
   ],
   "source": [
    "b3_exp_summary$Time_lag<-lag(b3_exp_summary$Time)\n",
    "b3_exp_summary$time_diff<-as.numeric(b3_exp_summary$Time-b3_exp_summary$Time_lag)\n",
    "hist(as.numeric(b3_exp_summary$time_diff))\n",
    "sum(as.numeric(b3_exp_summary$time_diff)>6000,na.rm=TRUE)\n",
    "#subset(b3_exp_summary,time_diff>2000)"
   ]
  },
  {
   "cell_type": "code",
   "execution_count": 20,
   "id": "19791769-2dbf-4fcf-8d6b-af7e8fca87b5",
   "metadata": {},
   "outputs": [
    {
     "data": {
      "text/html": [
       "<style>\n",
       ".list-inline {list-style: none; margin:0; padding: 0}\n",
       ".list-inline>li {display: inline-block}\n",
       ".list-inline>li:not(:last-child)::after {content: \"\\00b7\"; padding: 0 .5ex}\n",
       "</style>\n",
       "<ol class=list-inline><li>'type'</li><li>'site'</li><li>'logger'</li><li>'deployment'</li><li>'deployed_at'</li><li>'uuid'</li><li>'time.s'</li><li>'time.h'</li><li>'battery.V'</li><li>'aht_C'</li><li>'aht_RH'</li><li>'ch4_raw'</li><li>'ch4_cal'</li><li>'user_note'</li><li>'user_value'</li><li>'Time'</li><li>'ch4_raw_log10'</li><li>'ch4_ppm_pred'</li><li>'Time_lag'</li><li>'time_diff'</li></ol>\n"
      ],
      "text/latex": [
       "\\begin{enumerate*}\n",
       "\\item 'type'\n",
       "\\item 'site'\n",
       "\\item 'logger'\n",
       "\\item 'deployment'\n",
       "\\item 'deployed\\_at'\n",
       "\\item 'uuid'\n",
       "\\item 'time.s'\n",
       "\\item 'time.h'\n",
       "\\item 'battery.V'\n",
       "\\item 'aht\\_C'\n",
       "\\item 'aht\\_RH'\n",
       "\\item 'ch4\\_raw'\n",
       "\\item 'ch4\\_cal'\n",
       "\\item 'user\\_note'\n",
       "\\item 'user\\_value'\n",
       "\\item 'Time'\n",
       "\\item 'ch4\\_raw\\_log10'\n",
       "\\item 'ch4\\_ppm\\_pred'\n",
       "\\item 'Time\\_lag'\n",
       "\\item 'time\\_diff'\n",
       "\\end{enumerate*}\n"
      ],
      "text/markdown": [
       "1. 'type'\n",
       "2. 'site'\n",
       "3. 'logger'\n",
       "4. 'deployment'\n",
       "5. 'deployed_at'\n",
       "6. 'uuid'\n",
       "7. 'time.s'\n",
       "8. 'time.h'\n",
       "9. 'battery.V'\n",
       "10. 'aht_C'\n",
       "11. 'aht_RH'\n",
       "12. 'ch4_raw'\n",
       "13. 'ch4_cal'\n",
       "14. 'user_note'\n",
       "15. 'user_value'\n",
       "16. 'Time'\n",
       "17. 'ch4_raw_log10'\n",
       "18. 'ch4_ppm_pred'\n",
       "19. 'Time_lag'\n",
       "20. 'time_diff'\n",
       "\n",
       "\n"
      ],
      "text/plain": [
       " [1] \"type\"          \"site\"          \"logger\"        \"deployment\"   \n",
       " [5] \"deployed_at\"   \"uuid\"          \"time.s\"        \"time.h\"       \n",
       " [9] \"battery.V\"     \"aht_C\"         \"aht_RH\"        \"ch4_raw\"      \n",
       "[13] \"ch4_cal\"       \"user_note\"     \"user_value\"    \"Time\"         \n",
       "[17] \"ch4_raw_log10\" \"ch4_ppm_pred\"  \"Time_lag\"      \"time_diff\"    "
      ]
     },
     "metadata": {},
     "output_type": "display_data"
    }
   ],
   "source": [
    "\n",
    "names(b3_exp_summary)\n",
    "s <- cumsum(c(TRUE,diff(b3_exp_summary$Time)>=2000))\n",
    "b3_exp_summary$sample_round<-s"
   ]
  },
  {
   "cell_type": "code",
   "execution_count": 21,
   "id": "87f7c66f-60f8-41e1-b5d5-db58f0c00f9d",
   "metadata": {},
   "outputs": [],
   "source": [
    "slopes_compiled<-data.frame()\n",
    "\n",
    "for(i in 1:length(unique(b3_exp_summary$sample_round))){\n",
    "    gas_round<-subset(b3_exp_summary,sample_round==i)    \n",
    "    slope_ch4<-lm(ch4_ppm_pred~as.numeric(Time),gas_round)\n",
    "    start_time<-min(gas_round$Time)\n",
    "    stop_time<-max(gas_round$Time)\n",
    "    round<-i\n",
    "    slope<-summary(slope_ch4)$coefficients[2,1]\n",
    "    deployment<-unique(gas_round$deployment)\n",
    "    round_slope<-data.frame(start_time=start_time,stop_time=stop_time,round=round,slope=slope)\n",
    "    slopes_compiled<-bind_rows(slopes_compiled,round_slope)\n",
    "}\n",
    "slopes_compiled_b3<-slopes_compiled"
   ]
  },
  {
   "cell_type": "code",
   "execution_count": 25,
   "id": "51194ccb-8a9f-4787-b786-5954077d139b",
   "metadata": {},
   "outputs": [
    {
     "data": {
      "text/html": [
       "'/Users/jdh/SensorDataProcessing/rriv_methane/anya_methane'"
      ],
      "text/latex": [
       "'/Users/jdh/SensorDataProcessing/rriv\\_methane/anya\\_methane'"
      ],
      "text/markdown": [
       "'/Users/jdh/SensorDataProcessing/rriv_methane/anya_methane'"
      ],
      "text/plain": [
       "[1] \"/Users/jdh/SensorDataProcessing/rriv_methane/anya_methane\""
      ]
     },
     "metadata": {},
     "output_type": "display_data"
    }
   ],
   "source": [
    "slopes_compiled_b3$b_id<-3\n",
    "saveRDS(slopes_compiled_b3,\"slopes_compiled_b3.rds\")"
   ]
  },
  {
   "cell_type": "code",
   "execution_count": null,
   "id": "984d031e-5d50-4371-ad0c-4ff5a61ee7cd",
   "metadata": {},
   "outputs": [],
   "source": [
    "\n",
    "directory1<-paste(datawd,\"20230531-cold\",sep=\"\") #cold\n",
    "directory2<-paste(datawd,\"20230601\",sep=\"\") #room temp \n",
    "directory3<-paste(datawd,\"20230602-hot\",sep=\"\") #\"hot\"\n",
    "directory4<-paste(datawd,\"20230621-pdock/RRIV/pdock4\",sep=\"\") #rriv field data\n",
    "directory5<-paste(datawd,\"20230621-pdock/LGR\",sep=\"\") #lgr field data\n",
    "\n",
    "\n",
    "directory6<-paste(datawd,\"20230530Pdock\",sep=\"\")#test data 1\n",
    "\n",
    "dir_wb1<-paste(datawd,\"20230717/B1/WB\",sep=\"\")\n",
    "dir_wb2<-paste(datawd,\"20230717/B2/WB\",sep=\"\")\n",
    "dir_wb3<-paste(datawd,\"20230717/B3/WB\",sep=\"\")\n",
    "\n",
    "\n"
   ]
  },
  {
   "cell_type": "code",
   "execution_count": null,
   "id": "911c38e4-5743-4672-b96b-a454115230c2",
   "metadata": {},
   "outputs": [],
   "source": [
    "# create output directory path based on input directory\n",
    "# outputDir<-paste0(directory3,\"_output\")\n",
    "outputDir<-paste(datawd,\"calibration2_output\",sep=\"\")\n",
    "# create the output directory if necessary\n",
    "newDir(dirPath = outputDir)"
   ]
  },
  {
   "cell_type": "code",
   "execution_count": null,
   "id": "99f4f00b-e090-4e4d-ae1b-a3378c9cbb01",
   "metadata": {},
   "outputs": [],
   "source": [
    "cal1_20230724<-\"/Users/jdh/Library/CloudStorage/GoogleDrive-jakehosen@gmail.com/My Drive/WaterBear/CH4 bucket data/20230724-outside/RRIV/CAL1\"\n",
    "rriv_cal1_20230724<-concat_dirs(cal1_20230724, read_rriv_CSV, filePattern=\".CSV\", minFileSize=400)\n",
    "head(rriv_cal1_20230724)\n",
    "rriv_cal1_20230724<-process_rriv_columns(rriv_cal1_20230724)\n",
    "rriv_cal1_20230724$Time<-rriv_cal1_20230724$time.h\n",
    "str(rriv_cal1_20230724)"
   ]
  },
  {
   "cell_type": "code",
   "execution_count": null,
   "id": "2b885ac0-9604-454f-a152-936a6e5151d4",
   "metadata": {
    "tags": []
   },
   "outputs": [],
   "source": [
    "# read_rriv_CSV eliminates debug lines and lines where the logger is NA\n",
    "rriv_data1<-concat_dirs(directory1, read_rriv_CSV, filePattern=\".CSV\", minFileSize=400)\n",
    "rriv_data2<-concat_dirs(directory2, read_rriv_CSV, filePattern=\".CSV\", minFileSize=400)\n",
    "rriv_data3<-concat_dirs(directory3, read_rriv_CSV, filePattern=\".CSV\", minFileSize=400)\n",
    "rriv_data4<-concat_dirs(directory4, read_rriv_CSV, filePattern=\".CSV\", minFileSize=400)\n",
    "rriv_data5<-concat_dirs(directory6, read_rriv_CSV, filePattern=\".CSV\", minFileSize=400)\n",
    "\n",
    "\n",
    "# process columns to be useful variable types, some columns may need to be done manually\n",
    "rriv_data1<-process_rriv_columns(rriv_data1)\n",
    "rriv_data2<-process_rriv_columns(rriv_data2)\n",
    "rriv_data3<-process_rriv_columns(rriv_data3)\n",
    "rriv_data4<-process_rriv_columns(rriv_data4)\n",
    "rriv_data5<-process_rriv_columns(rriv_data5)\n",
    "\n",
    "\n",
    "\n",
    "# class(rriv_data1)\n",
    "\n",
    "\n",
    "# str(rriv_data1)\n",
    "UUIDdict=c(\n",
    "    \"57FF6E068387575148360767\"=\"CAL1\",\n",
    "    \"57FF6D068387575151290167\"=\"CAL2\",\n",
    "    \"57FF6F068387575149330867\"=\"CAL3\",\n",
    "    \"57FF6E068387575140070767\"=\"CAL4\",\n",
    "    \"50FF74068678545256252467\"=\"CAL5\")\n",
    "# UUIDdict\n",
    "\n",
    "rriv_data1<-createSensorColFromIDs(rriv_data1,idCol = \"uuid\",dict = UUIDdict)\n",
    "rriv_data2<-createSensorColFromIDs(rriv_data2,idCol = \"uuid\",dict = UUIDdict)\n",
    "rriv_data3<-createSensorColFromIDs(rriv_data3,idCol = \"uuid\",dict = UUIDdict)\n",
    "rriv_data4<-createSensorColFromIDs(rriv_data4,idCol = \"uuid\",dict = UUIDdict)\n",
    "rriv_data5<-createSensorColFromIDs(rriv_data5,idCol = \"uuid\",dict = UUIDdict)\n",
    "\n"
   ]
  },
  {
   "cell_type": "code",
   "execution_count": null,
   "id": "ea7f4000-7f5c-4d68-a7d6-fda8f99089d4",
   "metadata": {},
   "outputs": [],
   "source": [
    "lgr_data1<-concat_dirs(directory1, read_GA_ZIP, filePattern=\".zip\", minFileSize=300)\n",
    "lgr_data2<-concat_dirs(directory2, read_GA_ZIP, filePattern=\".zip\", minFileSize=300)\n",
    "lgr_data3<-concat_dirs(directory3, read_GA_ZIP, filePattern=\".zip\", minFileSize=300)\n",
    "lgr_data4<-concat_dirs(directory5, read_GA_ZIP, filePattern=\".zip\", minFileSize=300)\n",
    "lgr_data5<-concat_dirs(directory6, read_GA_ZIP, filePattern=\".zip\", minFileSize=300)\n",
    "\n",
    "# delete unzipped files\n",
    "    clean_temp()\n",
    "# process time column from character\n",
    "    lgr_data1$Time<-lubridate::as_datetime(lgr_data1$Time)\n",
    "    lgr_data2$Time<-lubridate::as_datetime(lgr_data2$Time)\n",
    "    lgr_data3$Time<-lubridate::as_datetime(lgr_data3$Time)\n",
    "    lgr_data4$Time<-lubridate::as_datetime(lgr_data4$Time)\n",
    "    lgr_data5$Time<-lubridate::as_datetime(lgr_data5$Time)\n",
    "    lgr_data_20230724$Time<-lubridate::as_datetime(lgr_data_20230724$Time)\n",
    "\n",
    "\n",
    "saveDFcsv(lgr_data1)\n",
    "saveDFcsv(lgr_data2)\n",
    "saveDFcsv(lgr_data3)\n",
    "saveDFcsv(lgr_data4)\n",
    "saveDFcsv(lgr_data5)\n",
    "\n"
   ]
  },
  {
   "cell_type": "code",
   "execution_count": null,
   "id": "cb121ecb-06a2-43e3-a918-a927e8a8a1c6",
   "metadata": {
    "tags": []
   },
   "outputs": [],
   "source": [
    "rriv_data1<-rriv_data1[rriv_data1$type==\"summary\",]\n",
    "rriv_data2<-as.data.frame(rriv_data2[rriv_data2$type==\"summary\",])\n",
    "rriv_data3<-rriv_data3[rriv_data3$type==\"summary\",]\n",
    "rriv_data4<-rriv_data4[rriv_data4$type==\"summary\",]\n",
    "rriv_data5<-rriv_data5[rriv_data5$type==\"summary\",]\n",
    "\n"
   ]
  },
  {
   "cell_type": "code",
   "execution_count": null,
   "id": "e00e3ad2-e17b-4c99-8465-d2621a2d9a9b",
   "metadata": {},
   "outputs": [],
   "source": [
    "ggplot(rriv_data5, aes(x=time.h, y=ch4_raw, color=Sensor))+geom_point()+labs(title=\"data 1 ch4 raw\")\n",
    "ggplot(lgr_data5, aes(x=Time, y=X.CH4.d_ppm))+geom_point()+labs(title=\"data 1 ch4 raw\")"
   ]
  },
  {
   "cell_type": "code",
   "execution_count": null,
   "id": "c1465ad8-ae94-49dc-8725-c6b3de2e204a",
   "metadata": {},
   "outputs": [],
   "source": [
    "str(rriv_data5)\n",
    "rriv_data5_df<-as.data.frame(rriv_data5)\n",
    "#str(lgr_data5)\n",
    "rriv_data5_df$Time<-rriv_data5_df$time.h\n",
    "range(lgr_data5$Time)[1]\n",
    "head(lgr_data5)\n",
    "#seq(as.POSIXct(\"2023-05-30 15:02:26 UTC\"),as.POSIXct(\"2023-06-30 15:02:26 UTC\"))\n",
    "#seq(range(rriv_data5_df$Time)[1],range(rriv_data5_df$Time)[2])\n",
    "#seq(ISOdatetime(2001,2,3,0,0,0), ISOdatetime(2001,2,4,0,0,0), by=(60*5))\n",
    "assembly_df<-data.frame(Time=as.POSIXct(seq(as.numeric(range(rriv_data5_df$Time)[1]),as.numeric(range(rriv_data5_df$Time)[2]),by=60)))"
   ]
  },
  {
   "cell_type": "code",
   "execution_count": null,
   "id": "81e3a53d-2537-4b71-86a7-2dc320e14391",
   "metadata": {},
   "outputs": [],
   "source": [
    "rriv_data5_df_cal1<-subset(rriv_data5_df,logger==\"CAL1\")\n",
    "rriv_data5_df_cal1$hour<-hour(rriv_data5_df_cal1$Time)\n",
    "rriv_data5_df_cal1$day<-day(rriv_data5_df_cal1$Time)\n",
    "\n",
    "\n",
    "rriv_cal1_20230724_int$ch4_raw_int<-approx(rriv_cal1_20230724$Time,rriv_cal1_20230724$ch4_raw,xout=assembly_df$Time)$y\n",
    "assembly_df$aht_RH_int<-approx(rriv_data5_df_cal1$Time,rriv_data5_df_cal1$aht_RH,xout=assembly_df$Time)$y\n",
    "assembly_df$aht_C_int<-approx(rriv_data5_df_cal1$Time,rriv_data5_df_cal1$aht_C,xout=assembly_df$Time)$y\n",
    "\n",
    "\n",
    "\n",
    "assembly_df$ch4_raw_int<-approx(rriv_data5_df_cal1$Time,rriv_data5_df_cal1$ch4_raw,xout=assembly_df$Time)$y\n",
    "assembly_df$aht_RH_int<-approx(rriv_data5_df_cal1$Time,rriv_data5_df_cal1$aht_RH,xout=assembly_df$Time)$y\n",
    "assembly_df$aht_C_int<-approx(rriv_data5_df_cal1$Time,rriv_data5_df_cal1$aht_C,xout=assembly_df$Time)$y\n",
    "assembly_df$lgr_ch4<-approx(lgr_data5$Time,lgr_data5$X.CH4._ppm,xout=assembly_df$Time)$y\n",
    "assembly_df$hour<-hour(assembly_df$Time)\n",
    "assembly_df$day<-day(assembly_df$Time)\n",
    "\n",
    "\n",
    "assembly_nogap<-merge(assembly_df,rriv_data5_df_cal1[,c(\"hour\",\"day\")],by=c(\"hour\",\"day\"))"
   ]
  },
  {
   "cell_type": "code",
   "execution_count": null,
   "id": "79f65b08-295b-4e5b-a503-a838fdc01163",
   "metadata": {},
   "outputs": [],
   "source": [
    "head(lgr_data_20230724)"
   ]
  },
  {
   "cell_type": "code",
   "execution_count": null,
   "id": "74141a09-5833-466e-b3dd-5c63d454af2e",
   "metadata": {},
   "outputs": [],
   "source": [
    "#assembly new data\n",
    "assembly_df_20230724_int<-data.frame(Time=as.POSIXct(seq(as.numeric(range(rriv_cal1_20230724$Time)[1]),as.numeric(range(rriv_cal1_20230724$Time)[2]),by=60)))\n",
    "\n",
    "assembly_df_20230724_int$ch4_raw_int<-approx(rriv_cal1_20230724$Time,rriv_cal1_20230724$ch4_raw,xout=assembly_df_20230724_int$Time)$y\n",
    "assembly_df_20230724_int$aht_RH_int<-approx(rriv_cal1_20230724$Time,rriv_cal1_20230724$aht_RH,xout=assembly_df_20230724_int$Time)$y\n",
    "assembly_df_20230724_int$aht_C_int<-approx(rriv_cal1_20230724$Time,rriv_cal1_20230724$aht_C,xout=assembly_df_20230724_int$Time)$y\n",
    "\n",
    "assembly_df_20230724_int$lgr_ch4<-approx(lgr_data_20230724$Time,lgr_data_20230724$X.CH4._ppm,xout=assembly_df_20230724_int$Time)$y\n",
    "\n",
    "assembly_df_20230724_int$ch4_predict_lm<-10^predict(cal1_lm,newdata=assembly_df_20230724_int)\n",
    "\n",
    "\n",
    "tail(assembly_df_20230724_int,n=100)\n",
    "\n",
    "ggplot(assembly_df_20230724_int,aes(lgr_ch4,ch4_predict_lm))+\n",
    "geom_point()\n",
    "\n"
   ]
  },
  {
   "cell_type": "code",
   "execution_count": null,
   "id": "270e0be0-0dfa-43bd-9c40-2cd1fb2ec249",
   "metadata": {},
   "outputs": [],
   "source": [
    "head(assembly_nogap)\n",
    "\n",
    "ggplot(assembly_nogap,aes(ch4_raw_int,lgr_ch4))+\n",
    "geom_point()\n",
    "\n",
    "cal1_lm<-lm(log10(lgr_ch4)~log10(ch4_raw_int)+aht_RH_int+aht_C_int,data=assembly_nogap)\n",
    "summary(cal1_lm)\n",
    "\n"
   ]
  },
  {
   "cell_type": "code",
   "execution_count": null,
   "id": "726db6e5-ba77-4d29-b0f7-9d07dcd99ccf",
   "metadata": {},
   "outputs": [],
   "source": [
    "head(assembly_nogap)"
   ]
  },
  {
   "cell_type": "code",
   "execution_count": null,
   "id": "2f43b5ca-e46d-4bea-abbf-075523a7356c",
   "metadata": {},
   "outputs": [],
   "source": [
    "assembly_nogap$ch4_predict_lm<-10^predict(cal1_lm,newdata=assembly_nogap)\n",
    "head(assembly_nogap)\n",
    "data.frame(Time=rriv_cal1_20230724$Time,ch4_raw_int=rriv_cal1_20230724\n",
    "\n",
    "rriv_cal1_20230724_int$ch4_predict_lm<-10^predict(cal1_lm,newdata=rriv_cal1_20230724_int)"
   ]
  },
  {
   "cell_type": "code",
   "execution_count": null,
   "id": "99b1280e-8120-429a-a0ac-266f0521e301",
   "metadata": {},
   "outputs": [],
   "source": [
    "head(assembly_nogap)"
   ]
  },
  {
   "cell_type": "markdown",
   "id": "b74f6ee0-2094-44de-9bf3-cec1a16df092",
   "metadata": {
    "tags": []
   },
   "source": [
    "## interpolate"
   ]
  },
  {
   "cell_type": "code",
   "execution_count": null,
   "id": "d682a274-eeae-4fff-9e38-fbe8767fb040",
   "metadata": {},
   "outputs": [],
   "source": [
    "# Manually create dictionary for column names, and what to rename them to in output df\n",
    "interpolateDict<-c(\n",
    "        \"ch4_raw\"=\"ch4_raw_rriv\",\n",
    "        \"aht_C\"=\"aht_C\",\n",
    "        \"aht_RH\"=\"aht_RH\",\n",
    "        \"dht_C\"=\"dht_C\",\n",
    "        \"dht_RH\"=\"dht_RH\",\n",
    "        \"X.CH4._ppm\"=\"ch4_ppm_lgr\")"
   ]
  },
  {
   "cell_type": "code",
   "execution_count": null,
   "id": "acbc5791-a5f8-4dff-bf4b-325f71249efd",
   "metadata": {},
   "outputs": [],
   "source": [
    "interpolateData<-function(df1=rriv_data_overlap, df1TimeCol=\"time.h\",\n",
    "                          df2=lgr_data_overlap, df2TimeCol=\"Time\",\n",
    "                          iDict=interpolateDict){\n",
    "    iD<-iDict\n",
    "    iKeys<-names(iD)\n",
    "    \n",
    "    # extract time range for first data frame\n",
    "    df1r<-range(df1[[ df1TimeCol ]])\n",
    "\n",
    "    # extract time range for second data frame\n",
    "    df2r<-range(df2[[ df2TimeCol ]])\n",
    "\n",
    "    # create output dataframe using whichever time range is larger\n",
    "    # use sequence to create minute intervals across the range for data points in a new dataframe\n",
    "    if(df1r[2]-df1r[1] > df2r[2]-df2r[1]){\n",
    "        print(\"df1 time range is larger\")\n",
    "        outputDF<-data.frame(time_utc=seq(df1r[1],df1r[2], by=\"min\"))\n",
    "    } else{\n",
    "        print(\"df2 time range is larger\")\n",
    "        outputDF<-data.frame(time_utc=seq(df2r[1],df2r[2], by=\"min\"))\n",
    "    }\n",
    "    \n",
    "    # extract column names from dataframe 1\n",
    "    cols<-names(df1)\n",
    "\n",
    "    # only interpolate data that is both in the dictionary and in the column names\n",
    "    for(key in iKeys[iKeys %in% cols]){\n",
    "        outputDF[[ iD[[key]] ]]<-approx(df1[[df1TimeCol]], df1[[key]], outputDF[[\"time_utc\"]])$y\n",
    "    }\n",
    "\n",
    "    # extract column names from dataframe 2\n",
    "    cols<-names(df2)\n",
    "\n",
    "    # only interpolate data that is both in the dictionary and in the column names\n",
    "    for(key in iKeys[iKeys %in% cols]){\n",
    "        outputDF[[ iD[[key]] ]]<-approx(df2[[df2TimeCol]], df2[[key]], outputDF[[\"time_utc\"]])$y\n",
    "    }\n",
    "\n",
    "    # remove lines with NA\n",
    "    outputDF<-outputDF[complete.cases(outputDF),]\n",
    "    \n",
    "    return(outputDF)\n",
    "}"
   ]
  },
  {
   "cell_type": "code",
   "execution_count": null,
   "id": "9421119e-af01-4160-9c5b-b9b96d18a906",
   "metadata": {},
   "outputs": [],
   "source": [
    "# interpolate data for each uuid then merge via rbind()\n",
    "#should be for summary values? \n",
    "sensorList<-unique(rriv_data1$Sensor)\n",
    "sensorList\n",
    "\n",
    "#data1\n",
    "interpolated1<-data.frame()\n",
    "for(sensor in sensorList){\n",
    "    subset<-rriv_data1[rriv_data1$Sensor==sensor,]\n",
    "    temp<-interpolateData(df1=subset,df2=lgr_data1)\n",
    "    temp$Sensor=sensor\n",
    "    interpolated1<-rbind(interpolated1, temp)\n",
    "}\n",
    "# interpolated1\n",
    "# data2\n",
    "# rriv_data2\n",
    "interpolated2<-data.frame()\n",
    "for(sensor in sensorList){\n",
    "    subset<-rriv_data2[rriv_data2$Sensor==sensor,]\n",
    "    temp<-interpolateData(df1=subset,df2=lgr_data2)\n",
    "    temp$Sensor=sensor\n",
    "    interpolated2<-rbind(interpolated2, temp)\n",
    "}\n",
    "#data3\n",
    "sensorList<-unique(rriv_data3$Sensor)\n",
    "interpolated3<-data.frame()\n",
    "for(sensor in sensorList){\n",
    "    subset<-rriv_data3[rriv_data3$Sensor==sensor,]\n",
    "    temp<-interpolateData(df1=subset,df2=lgr_data3)\n",
    "    temp$Sensor=sensor\n",
    "    interpolated3<-rbind(interpolated3, temp)\n",
    "}\n",
    "\n",
    "\n",
    "# data4\n",
    "# error if only 1 sensor\n",
    "sensorList<-unique(rriv_data4$Sensor)\n",
    "\n",
    "tempList<-vector(mode = \"list\",length = length(sensorList))\n",
    "names(tempList)<-sensorList\n",
    "\n",
    "interpolated4<-data.frame()\n",
    "for(sensor in sensorList){\n",
    "    subset<-rriv_data4[rriv_data4$Sensor==sensor,]\n",
    "    \n",
    "    tempList[[ sensor ]]<-interpolateData(df1=subset,df2=lgr_data4)\n",
    "    tempList[[ sensor ]]$Sensor=sensor\n",
    "    # temp<-interpolateData(df1=subset,df2=lgr_data5_overlap)\n",
    "    # temp$Sensor=sensor\n",
    "    # interpolated_data5<-rbind(interpolated_data5, temp)\n",
    "}\n",
    "output<-(tempList)\n",
    "interpolated4<-(output[[ sensorList[1] ]])\n",
    "# interpolated4\n",
    "\n",
    "\n",
    "# #data5\n",
    "sensorList<-unique(rriv_data5$Sensor)\n",
    "interpolated5<-data.frame()\n",
    "for(sensor in sensorList){\n",
    "    subset<-rriv_data5[rriv_data5$Sensor==sensor,]\n",
    "    temp<-interpolateData(df1=subset,df2=lgr_data5)\n",
    "    temp$Sensor=sensor\n",
    "    interpolated5<-rbind(interpolated5, temp)\n",
    "}"
   ]
  },
  {
   "cell_type": "code",
   "execution_count": null,
   "id": "b499fe0f-8609-446b-a13a-d6e48f22cede",
   "metadata": {},
   "outputs": [],
   "source": [
    "# ggplot(interpolated5, aes(x=time_utc, y=ch4_raw_rriv, color=Sensor))+geom_point()+labs(title=\"data 1 ch4 raw\")\n",
    "# ggplot(lgr_data5, aes(x=Time, y=X.CH4.d_ppm))+geom_point()+labs(title=\"data 1 ch4 raw\")"
   ]
  },
  {
   "cell_type": "markdown",
   "id": "d298973c-1081-4bcf-a11e-5afea9c511f3",
   "metadata": {
    "tags": []
   },
   "source": [
    "# align & clean"
   ]
  },
  {
   "cell_type": "code",
   "execution_count": null,
   "id": "808a7e55-f936-4f3f-8584-7207f4378d5e",
   "metadata": {},
   "outputs": [],
   "source": [
    "\n",
    "ts1<-lubridate::as_datetime(\"2023-05-31 14:52:51.458\")\n",
    "ts2<-lubridate::as_datetime(\"2023-05-31 15:58:51.06\")\n",
    "interpolated1<-interpolated1[interpolated1$time_utc>ts1 & interpolated1$time_utc<ts2,]\n",
    "lgr_data1<-lgr_data1[lgr_data1$Time>ts1 & lgr_data1$Time<ts2,]\n",
    "\n",
    "# ggplot(interpolated1, aes(x=time_utc, y=ch4_raw_rriv, color=Sensor))+geom_point()+labs(title=\"data 1 ch4 raw\")\n",
    "# ggplot(lgr_data1, aes(x=Time, y=X.CH4.d_ppm))+geom_point()+labs(title=\"data 1 ch4 raw\")"
   ]
  },
  {
   "cell_type": "code",
   "execution_count": null,
   "id": "78064f0b-3a3b-4d63-9a5f-1db2aaa19631",
   "metadata": {},
   "outputs": [],
   "source": [
    "ts1<-lubridate::as_datetime(\"2023-06-01 16:23:28.785\")\n",
    "ts2<-lubridate::as_datetime(\"2023-06-01 17:46:23.751\")\n",
    "ts3<-lubridate::as_datetime(\"2023-06-01 17:49:46.757\")\n",
    "ts4<-lubridate::as_datetime(\"2023-06-01 19:29:36.958\")\n",
    "rriv1<-interpolated2[interpolated2$time_utc>ts1 & interpolated2$time_utc<ts2,]\n",
    "rriv2<-interpolated2[interpolated2$time_utc>ts3 & interpolated2$time_utc<ts4,]\n",
    "lgr1<-lgr_data2[lgr_data2$Time>ts1 & lgr_data2$Time<ts2,]\n",
    "lgr2<-lgr_data2[lgr_data2$Time>ts3 & lgr_data2$Time<ts4,]\n",
    "interpolated2<-rbind(rriv1,rriv2)\n",
    "lgr_data2<-rbind(lgr1,lgr2)\n",
    "# ggplot(interpolated2, aes(x=time_utc, y=ch4_raw_rriv, color=Sensor))+geom_point()+labs(title=\"data 1 ch4 raw\")\n",
    "# ggplot(lgr_data2, aes(x=Time, y=X.CH4.d_ppm))+geom_point()+labs(title=\"data 1 ch4 raw\")"
   ]
  },
  {
   "cell_type": "code",
   "execution_count": null,
   "id": "a5ae54cc-6772-44ef-8f8d-fb45f93b8ab7",
   "metadata": {},
   "outputs": [],
   "source": [
    "\n",
    "ts1<-lubridate::as_datetime(\"2023-06-02 14:59:18.373\")\n",
    "ts2<-lubridate::as_datetime(\"2023-06-02 16:39:08.562\")\n",
    "interpolated3<-interpolated3[interpolated3$time_utc>ts1 & interpolated3$time_utc<ts2,]\n",
    "lgr_data3<-lgr_data3[lgr_data3$Time>ts1 & lgr_data3$Time<ts2,]\n",
    "\n",
    "# ggplot(interpolated3, aes(x=time_utc, y=ch4_raw_rriv, color=Sensor))+geom_point()+labs(title=\"data 1 ch4 raw\")\n",
    "# ggplot(lgr_data3, aes(x=Time, y=X.CH4.d_ppm))+geom_point()+labs(title=\"data 1 ch4 raw\")\n"
   ]
  },
  {
   "cell_type": "code",
   "execution_count": null,
   "id": "b518d1d6-d167-4ef4-9c2f-43d9daefd813",
   "metadata": {},
   "outputs": [],
   "source": [
    "\n",
    "ts1<-lubridate::as_datetime(\"2023-06-21 16:00:03.755\")\n",
    "ts2<-lubridate::as_datetime(\"2023-06-21 18:10:31.562\")\n",
    "interpolated4<-interpolated4[interpolated4$time_utc>ts1 & interpolated4$time_utc<ts2,]\n",
    "lgr_data4<-lgr_data4[lgr_data4$Time>ts1 & lgr_data4$Time<ts2,]\n",
    "# ggplot(interpolated4, aes(x=time_utc, y=ch4_raw_rriv, color=Sensor))+geom_point()+labs(title=\"data 1 ch4 raw\")\n",
    "# ggplot(lgr_data4, aes(x=Time, y=X.CH4.d_ppm))+geom_point()+labs(title=\"data 1 ch4 raw\")\n"
   ]
  },
  {
   "cell_type": "code",
   "execution_count": null,
   "id": "c158450f-6d8b-4f5d-b184-6bf622a02147",
   "metadata": {},
   "outputs": [],
   "source": [
    "ts1<-lubridate::as_datetime(\"2023-05-30 15:09:12.167\")\n",
    "ts2<-lubridate::as_datetime(\"2023-05-30 15:31:12.061\")\n",
    "ts3<-lubridate::as_datetime(\"2023-05-30 15:34:35.158\")\n",
    "ts4<-lubridate::as_datetime(\"2023-05-30 16:15:11.862\")\n",
    "rriv1<-interpolated5[interpolated5$time_utc>ts1 & interpolated5$time_utc<ts2,]\n",
    "rriv2<-interpolated5[interpolated5$time_utc>ts3 & interpolated5$time_utc<ts4,]\n",
    "lgr1<-lgr_data5[lgr_data5$Time>ts1 & lgr_data5$Time<ts2,]\n",
    "lgr2<-lgr_data5[lgr_data5$Time>ts3 & lgr_data5$Time<ts4,]\n",
    "interpolated5<-rbind(rriv1,rriv2)\n",
    "lgr_data5<-rbind(lgr1,lgr2)\n",
    "# ggplot(interpolated5, aes(x=time_utc, y=ch4_raw_rriv, color=Sensor))+geom_point()+labs(title=\"data 1 ch4 raw\")\n",
    "# ggplot(lgr_data5, aes(x=Time, y=X.CH4.d_ppm))+geom_point()+labs(title=\"data 1 ch4 raw\")"
   ]
  },
  {
   "cell_type": "code",
   "execution_count": null,
   "id": "357d8a01-83f1-4298-b11a-bc13bc6f3654",
   "metadata": {},
   "outputs": [],
   "source": [
    "#don't include data group 5 \n",
    "all_interpolated1<-rbind(interpolated1,interpolated2,interpolated3,interpolated4)"
   ]
  },
  {
   "cell_type": "markdown",
   "id": "b5111d6f-573e-4ed1-bbae-b9a812294677",
   "metadata": {
    "jp-MarkdownHeadingCollapsed": true,
    "tags": []
   },
   "source": [
    "# GAM"
   ]
  },
  {
   "cell_type": "markdown",
   "id": "baa8d630-a3e5-461b-9066-91f0c4a55c50",
   "metadata": {
    "tags": []
   },
   "source": [
    "## build Gams "
   ]
  },
  {
   "cell_type": "markdown",
   "id": "01927721-4348-4d3a-99c2-640f27999f0e",
   "metadata": {
    "jp-MarkdownHeadingCollapsed": true,
    "tags": []
   },
   "source": [
    "### Gam1 "
   ]
  },
  {
   "cell_type": "code",
   "execution_count": null,
   "id": "fc0a31ac-fff9-478f-86a9-84161879d67f",
   "metadata": {},
   "outputs": [],
   "source": [
    "# #curently not used \n",
    "# Calculate sensor resistance(Rs) using Figaro(manufacturer) equation\n",
    "# # Rs = (VC/VRL-1)*RL where\n",
    "# # VC = circuit voltage\n",
    "# # VRL = output voltage\n",
    "# # RL = load resistance\n",
    "# # 3-code 272 = 2.7kohm\n",
    "# RL = 2.7*1000  #convert kOhm to Ohm\n",
    "# VC = 5\n",
    "\n",
    "# # convert digital signal to voltage\n",
    "# interpolated_data$ch4_V=5/4096*interpolated_data$ch4_raw_rriv\n",
    "\n",
    "# # calculate sensor resistance (Rs)\n",
    "# interpolated_data$Rs_fig<-(VC/interpolated_data$ch4_V-1)*RL\n",
    "\n",
    "# # calculate absolute humidity from celsius and relative humidity\n",
    "# interpolated_data<-calcAbsoluteHumidity(interpolated_data,celsius = \"aht_C\",relativeHumidity = \"aht_RH\")\n",
    "\n",
    "# # head(interpolated_data)"
   ]
  },
  {
   "cell_type": "code",
   "execution_count": null,
   "id": "45af4119-330f-4627-a6ed-74379d6af660",
   "metadata": {},
   "outputs": [],
   "source": [
    "interpolated1_cal1<-all_interpolated1[all_interpolated1$Sensor==\"CAL1\",]\n",
    "interpolated1_cal2<-all_interpolated1[all_interpolated1$Sensor==\"CAL2\",]\n",
    "interpolated1_cal3<-all_interpolated1[all_interpolated1$Sensor==\"CAL3\",]\n",
    "interpolated1_cal4<-all_interpolated1[all_interpolated1$Sensor==\"CAL4\",]\n",
    "interpolated1_cal5<-all_interpolated1[all_interpolated1$Sensor==\"CAL5\",]\n",
    "\n",
    "gam1_rriv1<-mgcv::gam(ch4_ppm_lgr~s(ch4_raw_rriv)+s(aht_C)+s(aht_RH),data=interpolated1_cal1)\n",
    "gam1_rriv2<-mgcv::gam(ch4_ppm_lgr~s(ch4_raw_rriv)+s(aht_C)+s(aht_RH),data=interpolated1_cal2)\n",
    "gam1_rriv3<-mgcv::gam(ch4_ppm_lgr~s(ch4_raw_rriv)+s(aht_C)+s(aht_RH),data=interpolated1_cal3)\n",
    "gam1_rriv4<-mgcv::gam(ch4_ppm_lgr~s(ch4_raw_rriv)+s(aht_C)+s(aht_RH),data=interpolated1_cal4)\n",
    "gam1_rriv5<-mgcv::gam(ch4_ppm_lgr~s(ch4_raw_rriv)+s(aht_C)+s(aht_RH),data=interpolated1_cal5)\n",
    "\n",
    "summary(gam1_rriv1)\n",
    "# summary(gam_rriv2)\n",
    "# summary(gam_rriv3)\n",
    "# summary(gam_rriv4)\n",
    "# summary(gam_rriv5)\n"
   ]
  },
  {
   "cell_type": "code",
   "execution_count": null,
   "id": "247d2e2c-94ca-4d53-a7e5-935ab7231b4b",
   "metadata": {},
   "outputs": [],
   "source": [
    "predict(gam1_rriv1)->interpolated1_cal1$predict_ch4\n",
    "predict(gam1_rriv2)->interpolated1_cal2$predict_ch4\n",
    "predict(gam1_rriv3)->interpolated1_cal3$predict_ch4\n",
    "predict(gam1_rriv4)->interpolated1_cal4$predict_ch4\n",
    "predict(gam1_rriv5)->interpolated1_cal5$predict_ch4\n",
    "all_interpolated1<-rbind(interpolated1_cal1,interpolated1_cal2,interpolated1_cal3,interpolated1_cal4,interpolated1_cal5)"
   ]
  },
  {
   "cell_type": "code",
   "execution_count": null,
   "id": "4923d2fe-f46e-4d9e-ae93-8ff34caa96a3",
   "metadata": {},
   "outputs": [],
   "source": [
    "a<-ggplot(all_interpolated1,aes(x=ch4_ppm_lgr,y=predict_ch4,color=Sensor))+geom_point(size=5,alpha=0.25)+\n",
    "    geom_abline(slope = 1, linewidth=2)+geom_smooth(method=\"gam\")+\n",
    "    theme_classic()+theme(panel.background = element_rect(fill = \"#E3E3E3\"))+\n",
    "    labs(title=\"LGR CH4 vs RRIV CH4 Model\",x=\"LGR CH4 (ppm)\",y=\"RRIV CH4 predicted (ppm)\")+\n",
    "    theme(axis.text = element_text(size = 40,face=\"bold\"), \n",
    "        axis.title = element_text(size = 40,face=\"bold\"),\n",
    "        plot.title = element_text(size = 50, face = \"bold\"),\n",
    "        legend.title = element_text(color = \"black\", size = 30,face=\"bold\"),\n",
    "        legend.text = element_text(color = \"black\", size = 30,face=\"bold\")\n",
    "     )\n",
    "a    \n",
    "savePlot(a,width=900,height=900)"
   ]
  },
  {
   "cell_type": "markdown",
   "id": "61e0e0b5-1253-406d-9913-28e3dbd842a8",
   "metadata": {
    "jp-MarkdownHeadingCollapsed": true,
    "tags": []
   },
   "source": [
    "### GAM2: no cold\n"
   ]
  },
  {
   "cell_type": "code",
   "execution_count": null,
   "id": "9f474fca-d95c-45aa-b0b3-47786757b808",
   "metadata": {},
   "outputs": [],
   "source": [
    "all_interpolated2<-rbind(interpolated2,interpolated3,interpolated4)\n",
    "\n",
    "interpolated2_cal1<-all_interpolated[all_interpolated2$Sensor==\"CAL1\",]\n",
    "interpolated2_cal2<-all_interpolated[all_interpolated2$Sensor==\"CAL2\",]\n",
    "interpolated2_cal3<-all_interpolated[all_interpolated2$Sensor==\"CAL3\",]\n",
    "interpolated2_cal4<-all_interpolated[all_interpolated2$Sensor==\"CAL4\",]\n",
    "interpolated2_cal5<-all_interpolated[all_interpolated2$Sensor==\"CAL5\",]\n",
    "\n",
    "gam2_rriv1<-mgcv::gam(ch4_ppm_lgr~s(ch4_raw_rriv)+s(aht_C)+s(aht_RH),data=interpolated2_cal1)\n",
    "gam2_rriv2<-mgcv::gam(ch4_ppm_lgr~s(ch4_raw_rriv)+s(aht_C)+s(aht_RH),data=interpolated2_cal2)\n",
    "gam2_rriv3<-mgcv::gam(ch4_ppm_lgr~s(ch4_raw_rriv)+s(aht_C)+s(aht_RH),data=interpolated2_cal3)\n",
    "gam2_rriv4<-mgcv::gam(ch4_ppm_lgr~s(ch4_raw_rriv)+s(aht_C)+s(aht_RH),data=interpolated2_cal4)\n",
    "gam2_rriv5<-mgcv::gam(ch4_ppm_lgr~s(ch4_raw_rriv)+s(aht_C)+s(aht_RH),data=interpolated2_cal5)\n",
    "summary(gam2_rriv1)"
   ]
  },
  {
   "cell_type": "code",
   "execution_count": null,
   "id": "f3fe13bd-d858-4ca2-9f77-73944c9563b1",
   "metadata": {},
   "outputs": [],
   "source": [
    "predict(gam2_rriv1)->interpolated2_cal1$predict_ch4\n",
    "predict(gam2_rriv2)->interpolated2_cal2$predict_ch4\n",
    "predict(gam2_rriv3)->interpolated2_cal3$predict_ch4\n",
    "predict(gam2_rriv4)->interpolated2_cal4$predict_ch4\n",
    "predict(gam2_rriv5)->interpolated2_cal5$predict_ch4\n",
    "all_interpolated2<-rbind(interpolated2_cal1,interpolated2_cal2,interpolated2_cal3,interpolated2_cal4,interpolated2_cal5)"
   ]
  },
  {
   "cell_type": "code",
   "execution_count": null,
   "id": "e5d74225-6919-4bd2-8ddd-6abcc88d59fa",
   "metadata": {},
   "outputs": [],
   "source": [
    "b<-ggplot(all_interpolated2,aes(x=ch4_ppm_lgr,y=predict_ch4,color=Sensor))+geom_point(size=5,alpha=0.25)+\n",
    "    geom_abline(slope = 1, linewidth=2)+geom_smooth(method=\"gam\")+\n",
    "    theme_classic()+theme(panel.background = element_rect(fill = \"#E3E3E3\"))+\n",
    "    labs(title=\"LGR CH4 vs RRIV CH4 Model\",x=\"LGR CH4 (ppm)\",y=\"RRIV CH4 predicted (ppm)\")+\n",
    "    theme(axis.text = element_text(size = 40,face=\"bold\"), \n",
    "        axis.title = element_text(size = 40,face=\"bold\"),\n",
    "        plot.title = element_text(size = 50, face = \"bold\"),\n",
    "        legend.title = element_text(color = \"black\", size = 30,face=\"bold\"),\n",
    "        legend.text = element_text(color = \"black\", size = 30,face=\"bold\")\n",
    "     )\n",
    "b    \n",
    "savePlot(b,width=900,height=900)"
   ]
  },
  {
   "cell_type": "markdown",
   "id": "658a4c92-69f8-4825-bdc2-0493a2ff6c93",
   "metadata": {
    "jp-MarkdownHeadingCollapsed": true,
    "tags": []
   },
   "source": [
    "### gam3 : only other field data"
   ]
  },
  {
   "cell_type": "code",
   "execution_count": null,
   "id": "43420181-e795-4ee5-abe8-8adda60683e0",
   "metadata": {},
   "outputs": [],
   "source": [
    "# interpolated1_cal1<-all_interpolated1[all_interpolated1$Sensor==\"CAL1\",]\n",
    "# interpolated1_cal2<-all_interpolated1[all_interpolated1$Sensor==\"CAL2\",]\n",
    "# interpolated1_cal3<-all_interpolated1[all_interpolated1$Sensor==\"CAL3\",]\n",
    "# interpolated1_cal4<-all_interpolated1[all_interpolated1$Sensor==\"CAL4\",]\n",
    "# interpolated1_cal5<-all_interpolated1[all_interpolated1$Sensor==\"CAL5\",]\n",
    "\n",
    "# gam1_rriv1<-mgcv::gam(ch4_ppm_lgr~s(ch4_raw_rriv)+s(aht_C)+s(aht_RH),data=interpolated1_cal1)\n",
    "# gam1_rriv2<-mgcv::gam(ch4_ppm_lgr~s(ch4_raw_rriv)+s(aht_C)+s(aht_RH),data=interpolated1_cal2)\n",
    "# gam1_rriv3<-mgcv::gam(ch4_ppm_lgr~s(ch4_raw_rriv)+s(aht_C)+s(aht_RH),data=interpolated1_cal3)\n",
    "# gam1_rriv4<-mgcv::gam(ch4_ppm_lgr~s(ch4_raw_rriv)+s(aht_C)+s(aht_RH),data=interpolated1_cal4)\n",
    "# gam1_rriv5<-mgcv::gam(ch4_ppm_lgr~s(ch4_raw_rriv)+s(aht_C)+s(aht_RH),data=interpolated1_cal5)\n",
    "\n",
    "# summary(gam1_rriv1)\n",
    "# # summary(gam_rriv2)\n",
    "# # summary(gam_rriv3)\n",
    "# # summary(gam_rriv4)\n",
    "# # summary(gam_rriv5)\n"
   ]
  },
  {
   "cell_type": "markdown",
   "id": "b6d2698d-d0aa-446f-be80-85926583a33f",
   "metadata": {
    "tags": []
   },
   "source": [
    "## test gams "
   ]
  },
  {
   "cell_type": "markdown",
   "id": "5c49a0ee-9ca3-4b14-9dfe-ac905a618c7d",
   "metadata": {
    "jp-MarkdownHeadingCollapsed": true,
    "tags": []
   },
   "source": [
    "### GAM1"
   ]
  },
  {
   "cell_type": "code",
   "execution_count": null,
   "id": "0db9c640-d89b-4c62-9fe9-f9d979b52dee",
   "metadata": {},
   "outputs": [],
   "source": [
    "# interpolated 5 is test data \n",
    "test_data5_cal1<-interpolated5[interpolated5$Sensor==\"CAL1\",]\n",
    "test_data5_cal2<-interpolated5[interpolated5$Sensor==\"CAL2\",]\n",
    "test_data5_cal3<-interpolated5[interpolated5$Sensor==\"CAL3\",]\n",
    "test_data5_cal4<-interpolated5[interpolated5$Sensor==\"CAL4\",]\n",
    "test_data5_cal5<-interpolated5[interpolated5$Sensor==\"CAL5\",]"
   ]
  },
  {
   "cell_type": "code",
   "execution_count": null,
   "id": "d3337cc5-f2a7-4715-9722-c41105dcb92a",
   "metadata": {},
   "outputs": [],
   "source": [
    "\n",
    "predict(gam1_rriv1,test_data5_cal1)->test_data5_cal1$predict_ch4\n",
    "predict(gam1_rriv2,test_data5_cal2)->test_data5_cal2$predict_ch4\n",
    "predict(gam1_rriv3,test_data5_cal3)->test_data5_cal3$predict_ch4\n",
    "predict(gam1_rriv4,test_data5_cal4)->test_data5_cal4$predict_ch4\n",
    "predict(gam1_rriv5,test_data5_cal5)->test_data5_cal5$predict_ch4\n",
    "\n",
    "gam1_predict_data5<-rbind(test_data5_cal1,test_data5_cal2,test_data5_cal3,test_data5_cal4,test_data5_cal5)\n"
   ]
  },
  {
   "cell_type": "code",
   "execution_count": null,
   "id": "30798f6a-7dea-448a-a8d3-74f92843eab1",
   "metadata": {},
   "outputs": [],
   "source": [
    "#raw\n",
    "# ggplot(rriv_data5, aes(x=time.h, y=ch4_raw, color=Sensor))+geom_point()+labs(title=\"data 1 ch4 raw\")\n",
    "ggplot(lgr_data5, aes(x=Time, y=X.CH4.d_ppm))+geom_point()+labs(title=\"data 1 ch4 raw\")\n",
    "ggplot(interpolated5, aes(x=time_utc, y=ch4_raw_rriv, color=Sensor))+geom_point()+labs(title=\"data 1 ch4 raw\")\n",
    "# ggplot(lgr_data5, aes(x=Time, y=X.CH4.d_ppm))+geom_point()+labs(title=\"data 1 ch4 raw\")\n",
    "\n",
    "#predicted\n",
    "# ggplot(test_data5_cal3,aes(x=time_utc,y=predict_ch4))+geom_point(size=5,color=\"blue\")\n",
    "ggplot(gam1_predict_data5,aes(x=time_utc,y=predict_ch4,color=Sensor))+geom_point(size=5)\n"
   ]
  },
  {
   "cell_type": "code",
   "execution_count": null,
   "id": "258be463-2e71-4ced-a266-9be6609afe01",
   "metadata": {
    "tags": []
   },
   "outputs": [],
   "source": [
    "# interpolated 5 is test data \n",
    "test_data5_cal1<-interpolated3[interpolated5$Sensor==\"CAL1\",]\n",
    "test_data5_cal2<-interpolated3[interpolated5$Sensor==\"CAL2\",]\n",
    "test_data5_cal3<-interpolated3[interpolated3$Sensor==\"CAL3\",]\n",
    "test_data5_cal4<-interpolated3[interpolated3$Sensor==\"CAL4\",]\n",
    "test_data5_cal5<-interpolated3[interpolated3$Sensor==\"CAL5\",]"
   ]
  },
  {
   "cell_type": "code",
   "execution_count": null,
   "id": "b7e61f4f-6ee1-4d36-8227-83eaf122fd02",
   "metadata": {},
   "outputs": [],
   "source": [
    "\n",
    "predict(gam1_rriv1,test_data3_cal1)->test_data3_cal1$predict_ch4\n",
    "predict(gam1_rriv2,test_data3_cal2)->test_data3_cal2$predict_ch4\n",
    "predict(gam1_rriv3,test_data3_cal3)->test_data3_cal3$predict_ch4\n",
    "predict(gam1_rriv4,test_data3_cal4)->test_data3_cal4$predict_ch4\n",
    "predict(gam1_rriv5,test_data3_cal5)->test_data3_cal5$predict_ch4\n",
    "\n",
    "gam1_predict_data3<-rbind(test_data3_cal1,test_data3_cal2,test_data3_cal3,test_data3_cal4,test_data3_cal5)\n"
   ]
  },
  {
   "cell_type": "code",
   "execution_count": null,
   "id": "36de2d3f-8f6a-43ba-bdb0-7bda732c2d98",
   "metadata": {},
   "outputs": [],
   "source": [
    "#raw\n",
    "# ggplot(rriv_data5, aes(x=time.h, y=ch4_raw, color=Sensor))+geom_point()+labs(title=\"data 1 ch4 raw\")\n",
    "ggplot(lgr_data3, aes(x=Time, y=X.CH4.d_ppm))+geom_point()+labs(title=\"data 1 ch4 raw\")\n",
    "ggplot(interpolated3, aes(x=time_utc, y=ch4_raw_rriv, color=Sensor))+geom_point()+labs(title=\"data 1 ch4 raw\")\n",
    "# ggplot(lgr_data5, aes(x=Time, y=X.CH4.d_ppm))+geom_point()+labs(title=\"data 1 ch4 raw\")\n",
    "\n",
    "#predicted\n",
    "ggplot(gam1_predict_data3,aes(x=time_utc,y=predict_ch4,color=Sensor))+geom_point(size=5)"
   ]
  },
  {
   "cell_type": "markdown",
   "id": "3e40ce74-bde3-4809-9ad6-a02483aed4d0",
   "metadata": {
    "jp-MarkdownHeadingCollapsed": true,
    "tags": []
   },
   "source": [
    "### GAM2"
   ]
  },
  {
   "cell_type": "code",
   "execution_count": null,
   "id": "34701496-2c3c-4b0c-9df8-28e10d14a65b",
   "metadata": {},
   "outputs": [],
   "source": []
  },
  {
   "cell_type": "code",
   "execution_count": null,
   "id": "0511d684-0d85-4a7a-b0a0-cfeb45e2e1a9",
   "metadata": {
    "tags": []
   },
   "outputs": [],
   "source": [
    "# interpolated 3 is test data \n",
    "test2_data3_cal1<-interpolated3[interpolated3$Sensor==\"CAL1\",]\n",
    "test2_data3_cal2<-interpolated3[interpolated3$Sensor==\"CAL2\",]\n",
    "test2_data3_cal3<-interpolated3[interpolated3$Sensor==\"CAL3\",]\n",
    "test2_data3_cal4<-interpolated3[interpolated3$Sensor==\"CAL4\",]\n",
    "test2_data3_cal5<-interpolated3[interpolated3$Sensor==\"CAL5\",]"
   ]
  },
  {
   "cell_type": "code",
   "execution_count": null,
   "id": "a2ea31fb-121a-4283-9a4b-9ee5bd5e998f",
   "metadata": {},
   "outputs": [],
   "source": [
    "\n",
    "predict(gam2_rriv1,test2_data3_cal1)->test2_data3_cal1$predict_ch4\n",
    "predict(gam2_rriv2,test2_data3_cal2)->test2_data3_cal2$predict_ch4\n",
    "predict(gam2_rriv3,test2_data3_cal3)->test2_data3_cal3$predict_ch4\n",
    "predict(gam2_rriv4,test2_data3_cal4)->test2_data3_cal4$predict_ch4\n",
    "predict(gam2_rriv5,test2_data3_cal5)->test2_data3_cal5$predict_ch4\n",
    "\n",
    "gam2_predict_data3<-rbind(test2_data3_cal1,test2_data3_cal2,test2_data3_cal3,test2_data3_cal4,test2_data3_cal5)\n"
   ]
  },
  {
   "cell_type": "code",
   "execution_count": null,
   "id": "f467c55c-6fd8-4982-951f-abf21bfdd0f3",
   "metadata": {},
   "outputs": [],
   "source": [
    "#raw\n",
    "# ggplot(rriv_data5, aes(x=time.h, y=ch4_raw, color=Sensor))+geom_point()+labs(title=\"data 1 ch4 raw\")\n",
    "ggplot(lgr_data3, aes(x=Time, y=X.CH4.d_ppm))+geom_point()+labs(title=\"data 1 ch4 raw\")\n",
    "ggplot(interpolated3, aes(x=time_utc, y=ch4_raw_rriv, color=Sensor))+geom_point()+labs(title=\"data 1 ch4 raw\")\n",
    "# ggplot(lgr_data5, aes(x=Time, y=X.CH4.d_ppm))+geom_point()+labs(title=\"data 1 ch4 raw\")\n",
    "\n",
    "#predicted\n",
    "# ggplot(test2_data3_cal5,aes(x=time_utc,y=predict_ch4))+geom_point(size=5,color=\"blue\")\n",
    "ggplot(gam2_predict_data3,aes(x=time_utc,y=predict_ch4,color=Sensor))+geom_point(size=5)"
   ]
  },
  {
   "cell_type": "code",
   "execution_count": null,
   "id": "af056d3e-2e11-43d5-a61c-f223e43588d5",
   "metadata": {},
   "outputs": [],
   "source": []
  },
  {
   "cell_type": "code",
   "execution_count": null,
   "id": "fcf73166-c58c-4c10-a57a-a3cc07fdaeb3",
   "metadata": {
    "tags": []
   },
   "outputs": [],
   "source": [
    "# interpolated 5 is test data \n",
    "test2_data5_cal1<-interpolated5[interpolated5$Sensor==\"CAL1\",]\n",
    "test2_data5_cal2<-interpolated5[interpolated5$Sensor==\"CAL2\",]\n",
    "test2_data5_cal3<-interpolated5[interpolated5$Sensor==\"CAL3\",]\n",
    "test2_data5_cal4<-interpolated5[interpolated5$Sensor==\"CAL4\",]\n",
    "test2_data5_cal5<-interpolated5[interpolated5$Sensor==\"CAL5\",]"
   ]
  },
  {
   "cell_type": "code",
   "execution_count": null,
   "id": "666aba41-048c-4486-b916-1a4b49e197df",
   "metadata": {},
   "outputs": [],
   "source": [
    "\n",
    "predict(gam2_rriv1,test2_data5_cal1)->test2_data5_cal1$predict_ch4\n",
    "predict(gam2_rriv2,test2_data5_cal2)->test2_data5_cal2$predict_ch4\n",
    "predict(gam2_rriv3,test2_data5_cal3)->test2_data5_cal3$predict_ch4\n",
    "predict(gam2_rriv4,test2_data5_cal4)->test2_data5_cal4$predict_ch4\n",
    "predict(gam2_rriv5,test2_data5_cal5)->test2_data5_cal5$predict_ch4\n",
    "\n",
    "gam2_predict_data5<-rbind(test2_data5_cal1,test2_data5_cal2,test2_data5_cal3,test2_data5_cal4,test2_data5_cal5)\n"
   ]
  },
  {
   "cell_type": "code",
   "execution_count": null,
   "id": "1371ae2f-2814-41c1-9a01-9bd239cb8386",
   "metadata": {},
   "outputs": [],
   "source": [
    "#raw\n",
    "# ggplot(rriv_data5, aes(x=time.h, y=ch4_raw, color=Sensor))+geom_point()+labs(title=\"data 1 ch4 raw\")\n",
    "ggplot(lgr_data5, aes(x=Time, y=X.CH4.d_ppm))+geom_point()+labs(title=\"data 1 ch4 raw\")\n",
    "ggplot(interpolated5, aes(x=time_utc, y=ch4_raw_rriv, color=Sensor))+geom_point()+labs(title=\"data 1 ch4 raw\")\n",
    "# ggplot(lgr_data5, aes(x=Time, y=X.CH4.d_ppm))+geom_point()+labs(title=\"data 1 ch4 raw\")\n",
    "\n",
    "#predicted\n",
    "# ggplot(test2_data5_cal5,aes(x=time_utc,y=predict_ch4))+geom_point(size=5,color=\"blue\")\n",
    "ggplot(gam2_predict_data5,aes(x=time_utc,y=predict_ch4,color=Sensor))+geom_point(size=5)"
   ]
  },
  {
   "cell_type": "code",
   "execution_count": null,
   "id": "d1272f5a-8902-43e5-8ec8-ef37a535b82b",
   "metadata": {},
   "outputs": [],
   "source": []
  },
  {
   "cell_type": "markdown",
   "id": "e5d3257d-8816-4f4a-9ae1-9f0393b41114",
   "metadata": {},
   "source": [
    "# test field data 3 day"
   ]
  },
  {
   "cell_type": "markdown",
   "id": "837b2513-2ee8-4d9e-ac15-52af99ab5ee9",
   "metadata": {
    "tags": []
   },
   "source": [
    "## setup"
   ]
  },
  {
   "cell_type": "code",
   "execution_count": null,
   "id": "87e82750-ab5a-4ab2-b185-9a68fca0c432",
   "metadata": {},
   "outputs": [],
   "source": [
    "# dictionary of UUIDS to sensorIDs\n",
    "UUIDdict2=c(\n",
    "    \"57FF6E068387575148360767\"=\"WB1\",\n",
    "    \"50FF6D068678545249232467\"=\"WB2\",\n",
    "    \"57FF6F068387575149330867\"=\"WB3\"#,\n",
    "    # \"57FF6B068387575150310767\"=\"AP1\",\n",
    "    # \"57FF6E068387575140070767\"=\"AP2\",\n",
    "    # \"50FF74068678545256252467\"=\"AP3\",\n",
    "    # \"57FF6A068387575136311367\"=\"S1\"\n",
    ")\n"
   ]
  },
  {
   "cell_type": "code",
   "execution_count": null,
   "id": "5c363199-0089-4867-a2ec-e6ebe79edf75",
   "metadata": {
    "tags": []
   },
   "outputs": [],
   "source": [
    "#read wb \n",
    "data_wb1<-concat_dirs(dir_wb1, read_rriv_CSV, filePattern=\".CSV\", minFileSize=400)\n",
    "data_wb1<-process_rriv_columns(data_wb1)\n",
    "# saveDFcsv(data_wb1)\n",
    "data_wb1<-createSensorColFromIDs(data_wb1,idCol = \"uuid\",dict = UUIDdict2)\n",
    "\n",
    "data_wb2<-concat_dirs(dir_wb2, read_rriv_CSV, filePattern=\".CSV\", minFileSize=400)\n",
    "data_wb2<-process_rriv_columns(data_wb2)\n",
    "# saveDFcsv(data_wb2)\n",
    "data_wb2<-createSensorColFromIDs(data_wb2,idCol = \"uuid\",dict = UUIDdict2)\n",
    "\n",
    "data_wb3<-concat_dirs(dir_wb3, read_rriv_CSV, filePattern=\".CSV\", minFileSize=400)\n",
    "data_wb3<-process_rriv_columns(data_wb3)\n",
    "# saveDFcsv(data_wb3)\n",
    "data_wb3<-createSensorColFromIDs(data_wb3,idCol = \"uuid\",dict = UUIDdict2)\n",
    "\n",
    "data_all<-as.data.frame(rbind(data_wb1,data_wb2,data_wb3))\n",
    "# data_all"
   ]
  },
  {
   "cell_type": "code",
   "execution_count": null,
   "id": "1f8ee658-23da-4fb0-99a8-bafe16be6937",
   "metadata": {},
   "outputs": [],
   "source": []
  },
  {
   "cell_type": "code",
   "execution_count": null,
   "id": "f4f84543-f0db-47fb-b010-b925d112d00a",
   "metadata": {},
   "outputs": [],
   "source": [
    "# convert time.s to better timestamp.\n",
    "data_all$time.h<-lubridate::as_datetime(data_all$time.s)\n",
    "# copy_all$time.h\n",
    "# copy_all"
   ]
  },
  {
   "cell_type": "code",
   "execution_count": null,
   "id": "3822196f-86e7-408d-8578-6577fb9893b2",
   "metadata": {},
   "outputs": [],
   "source": [
    "# average every 10 data points to get your \"summary\" value\n",
    "#temp and ch4\n",
    "sum_ch4<-0\n",
    "sum_temp<-0\n",
    "count<-0\n",
    "for(i in 1:nrow(data_all)) {\n",
    "# for(i in 1:22) {\n",
    "    if(data_all[i,]$type==\"raw\"){\n",
    "        sum_ch4<-sum_ch4+data_all[i,12]\n",
    "        sum_temp<-sum_temp+data_all[i,10]\n",
    "        count<-count+1\n",
    "        # print(paste(\"sum ch4: \", sum_ch4)) \n",
    "        # print(paste(\"sum temp: \", sum_temp))\n",
    "        # print(paste(\"count: \", count)) \n",
    "    }\n",
    "    if(data_all[i,]$type==\"summary\"){\n",
    "        data_all[i,12]<-sum_ch4/count\n",
    "        data_all[i,10]<-sum_temp/count\n",
    "        # print(paste(\"summary ch4: \", copy_all[i,12]))\n",
    "        # print(paste(\"summary temp: \", copy_all[i,10]))\n",
    "        sum_ch4<-0\n",
    "        sum_temp<-0\n",
    "        count<-0\n",
    "    }\n",
    "}\n",
    "data_all<-data_all[data_all$type==\"summary\",]"
   ]
  },
  {
   "cell_type": "code",
   "execution_count": null,
   "id": "8498fbdf-ade3-4e93-8724-8a04c37f920a",
   "metadata": {},
   "outputs": [],
   "source": []
  },
  {
   "cell_type": "code",
   "execution_count": null,
   "id": "58ccd842-6d9b-4d25-8e04-2cc0ed469905",
   "metadata": {
    "tags": []
   },
   "outputs": [],
   "source": [
    "# data_all\n",
    "names(data_all)[12] <- \"ch4_raw_rriv\"\n",
    "# data_all"
   ]
  },
  {
   "cell_type": "code",
   "execution_count": null,
   "id": "eae41099-c5f4-4db6-89cc-50f5f6ca75e2",
   "metadata": {},
   "outputs": [],
   "source": [
    "#cut out data at end when submerged \n",
    "ts1<-1689112414.374\n",
    "ts2<-1689399003.047\n",
    "clean_all<-data_all[data_all$time.s>ts1 & data_all$time.s<ts2,]\n"
   ]
  },
  {
   "cell_type": "markdown",
   "id": "1505bac6-3d69-491b-a56e-e157f032ebf9",
   "metadata": {
    "tags": []
   },
   "source": [
    "## GAM1"
   ]
  },
  {
   "cell_type": "code",
   "execution_count": null,
   "id": "32d612e9-5c43-4cb8-b423-6617a6bf614f",
   "metadata": {},
   "outputs": [],
   "source": [
    "# interpolated 3 is test data\n",
    "gam1_data_all<-clean_all\n",
    "test1_data_all_wb1<-gam1_data_all[gam1_data_all$Sensor==\"WB1\",]\n",
    "test1_data_all_wb2<-gam1_data_all[gam1_data_all$Sensor==\"WB2\",]\n",
    "test1_data_all_wb3<-gam1_data_all[gam1_data_all$Sensor==\"WB3\",]\n"
   ]
  },
  {
   "cell_type": "code",
   "execution_count": null,
   "id": "5d205022-9816-4d86-aca7-eec9088d6bb6",
   "metadata": {},
   "outputs": [],
   "source": [
    "\n",
    "predict(gam1_rriv1,test1_data_all_wb1)->test1_data_all_wb1$predict_ch4\n",
    "predict(gam1_rriv2,test1_data_all_wb2)->test1_data_all_wb2$predict_ch4\n",
    "predict(gam1_rriv3,test1_data_all_wb3)->test1_data_all_wb3$predict_ch4\n",
    "\n",
    "gam1_data_all<-rbind(test1_data_all_wb1,test1_data_all_wb2,test1_data_all_wb3)\n",
    "# gam1_data_all"
   ]
  },
  {
   "cell_type": "code",
   "execution_count": null,
   "id": "8a48e703-9a53-43a0-a9fd-cff45a28d3e0",
   "metadata": {},
   "outputs": [],
   "source": [
    "# gam1_data_all\n",
    "#raw\n",
    "ggplot(gam1_data_all, aes(x=time.h, y=ch4_raw_rriv, color=Sensor))+geom_point()+labs(title=\"data 1 ch4 raw\")\n",
    "\n",
    "#predicted\n",
    "ggplot(gam1_data_all,aes(x=time.h,y=predict_ch4,color=Sensor))+geom_point(size=5)"
   ]
  },
  {
   "cell_type": "markdown",
   "id": "a8d42bd5-b0ff-4425-9e56-52687dd3f573",
   "metadata": {},
   "source": [
    "## GAM2"
   ]
  },
  {
   "cell_type": "code",
   "execution_count": null,
   "id": "03f90c44-d5c0-4e52-ab6b-f1000989baa6",
   "metadata": {},
   "outputs": [],
   "source": []
  },
  {
   "cell_type": "code",
   "execution_count": null,
   "id": "616165e9-5101-46e2-9838-71c83f1dded2",
   "metadata": {},
   "outputs": [],
   "source": [
    "# interpolated 3 is test data\n",
    "gam2_data_all<-clean_all\n",
    "test2_data_all_wb1<-gam2_data_all[gam2_data_all$Sensor==\"WB1\",]\n",
    "test2_data_all_wb2<-gam2_data_all[gam2_data_all$Sensor==\"WB2\",]\n",
    "test2_data_all_wb3<-gam2_data_all[gam2_data_all$Sensor==\"WB3\",]\n"
   ]
  },
  {
   "cell_type": "code",
   "execution_count": null,
   "id": "5cfcc68f-a239-4922-98f7-65842c40d9b7",
   "metadata": {},
   "outputs": [],
   "source": [
    "\n",
    "predict(gam2_rriv1,test2_data_all_wb1)->test2_data_all_wb1$predict_ch4\n",
    "predict(gam2_rriv2,test2_data_all_wb2)->test2_data_all_wb2$predict_ch4\n",
    "predict(gam2_rriv3,test2_data_all_wb3)->test2_data_all_wb3$predict_ch4\n",
    "\n",
    "gam2_data_all<-rbind(test2_data_all_wb1,test2_data_all_wb2,test2_data_all_wb3)\n",
    "# gam1_data_all"
   ]
  },
  {
   "cell_type": "code",
   "execution_count": null,
   "id": "ccd3e515-584b-4398-9a50-cac4065ce63a",
   "metadata": {},
   "outputs": [],
   "source": [
    "# gam1_data_all\n",
    "#raw\n",
    "ggplot(gam2_data_all, aes(x=time.h, y=ch4_raw_rriv, color=Sensor))+geom_point()+labs(title=\"data 1 ch4 raw\")\n",
    "\n",
    "#predicted\n",
    "ggplot(gam2_data_all,aes(x=time.h,y=predict_ch4,color=Sensor))+geom_point(size=5)"
   ]
  }
 ],
 "metadata": {
  "kernelspec": {
   "display_name": "R",
   "language": "R",
   "name": "ir"
  },
  "language_info": {
   "codemirror_mode": "r",
   "file_extension": ".r",
   "mimetype": "text/x-r-source",
   "name": "R",
   "pygments_lexer": "r",
   "version": "4.3.1"
  }
 },
 "nbformat": 4,
 "nbformat_minor": 5
}
